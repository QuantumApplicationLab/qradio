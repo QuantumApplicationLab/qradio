{
 "cells": [
  {
   "cell_type": "markdown",
   "id": "c20722a2",
   "metadata": {},
   "source": [
    "# Reupload classifier using a single qbit\n",
    "\n"
   ]
  },
  {
   "cell_type": "code",
   "execution_count": 46,
   "id": "ac1c5e29",
   "metadata": {},
   "outputs": [],
   "source": [
    "import numpy as np\n",
    "import matplotlib.pyplot as plt\n",
    "\n",
    "from qiskit import Aer, QuantumCircuit\n",
    "from qiskit.opflow import Z, I, StateFn\n",
    "from qiskit.utils import QuantumInstance, algorithm_globals\n",
    "from qiskit.circuit import Parameter, ParameterVector\n",
    "from qiskit.circuit.library import RealAmplitudes, ZZFeatureMap\n",
    "from qiskit.algorithms.optimizers import COBYLA, L_BFGS_B\n",
    "\n",
    "from qiskit_machine_learning.neural_networks import TwoLayerQNN, CircuitQNN, OpflowQNN\n",
    "from qiskit_machine_learning.algorithms.classifiers import NeuralNetworkClassifier, VQC\n",
    "from qiskit_machine_learning.algorithms.regressors import NeuralNetworkRegressor, VQR\n",
    "from qiskit.opflow import PauliSumOp, StateFn, OperatorBase, ExpectationBase\n",
    "\n",
    "from typing import Union\n",
    "\n",
    "from qiskit_machine_learning.exceptions import QiskitMachineLearningError\n",
    "\n",
    "from IPython.display import clear_output\n",
    "\n",
    "from dataset import read_dataset, divide_dataset, balance_dataset\n",
    "\n",
    "algorithm_globals.random_seed = 42\n",
    "\n",
    "quantum_instance = QuantumInstance(Aer.get_backend(\"aer_simulator\"), shots=1024)"
   ]
  },
  {
   "cell_type": "markdown",
   "id": "22ff6703",
   "metadata": {},
   "source": [
    "# Data"
   ]
  },
  {
   "cell_type": "code",
   "execution_count": 69,
   "id": "61986b32",
   "metadata": {},
   "outputs": [
    {
     "data": {
      "text/plain": [
       "<matplotlib.collections.PathCollection at 0x7f37d69b28e0>"
      ]
     },
     "execution_count": 69,
     "metadata": {},
     "output_type": "execute_result"
    },
    {
     "data": {
      "image/png": "[encoded data removed]",
      "text/plain": [
       "<Figure size 432x288 with 1 Axes>"
      ]
     },
     "metadata": {
      "needs_background": "light"
     },
     "output_type": "display_data"
    }
   ],
   "source": [
    "# read the data\n",
    "dataset = read_dataset()\n",
    "\n",
    "# extract a balances subset containing a limited number of points\n",
    "npts = 100\n",
    "dataset = balance_dataset(dataset, npts)\n",
    "\n",
    "# only consider a subset of the features\n",
    "features = [0,1,2]\n",
    "nfeatures = len(features)\n",
    "dataset.features = dataset.features[:,features]\n",
    "\n",
    "# normalize the data between 0 and 2pi\n",
    "dataset.features -= dataset.features.min(0)\n",
    "dataset.features /= dataset.features.max(0)\n",
    "dataset.features *= 2*np.pi\n",
    "\n",
    "# divide the dataset in train/test\n",
    "train_dataset, test_dataset = divide_dataset(dataset, shuffle=False)\n",
    "\n",
    "# plot the data\n",
    "plt.scatter(train_dataset.features[:,0],train_dataset.features[:,1],c=train_dataset.labels,alpha=0.5,s=2)\n",
    "plt.scatter(test_dataset.features[:,0],test_dataset.features[:,1],c=test_dataset.labels)"
   ]
  },
  {
   "cell_type": "markdown",
   "id": "cc3f5d8f",
   "metadata": {},
   "source": [
    "# Classification with single qubit classifier and data reuploading\n",
    "\n",
    "Data Reuploading has been defined in that paper : https://arxiv.org/pdf/1907.02085.pdf \n",
    "and a nice tutorial can found at pannylane https://pennylane.ai/qml/demos/tutorial_data_reuploading_classifier.html\n",
    "\n",
    "The main idea is to encode classical data in SU2 rotations and add a learnable layer to it. The \"network\" is then constructed from repeating sequence of data-encoding and learnable layers. The classification is made by measuring the state of the qubit after the series of transormation\n",
    "\n",
    "Let's first create a general rotation blocs for the input and the parameters:"
   ]
  },
  {
   "cell_type": "code",
   "execution_count": 70,
   "id": "523b024b",
   "metadata": {},
   "outputs": [
    {
     "data": {
      "image/png": "[encoded data removed]",
      "text/plain": [
       "<Figure size 314.126x84.28 with 1 Axes>"
      ]
     },
     "execution_count": 70,
     "metadata": {},
     "output_type": "execute_result"
    }
   ],
   "source": [
    "class Encode(QuantumCircuit):\n",
    "    \n",
    "    def __init__(self, num_feat, nqbit=1):\n",
    "        super().__init__(nqbit)\n",
    "        \n",
    "        nbloc = -(num_feat//-3)\n",
    "        \n",
    "        self.params = ParameterVector(name='X', length=num_feat)\n",
    "        idx = 0\n",
    "        for i in range(nbloc):\n",
    "            self.u(self.params[idx+0],self.params[idx+1],self.params[idx+2], 0)\n",
    "            idx += 3\n",
    "            \n",
    "encode = Encode(6)\n",
    "encode.draw(output='mpl')"
   ]
  },
  {
   "cell_type": "code",
   "execution_count": 81,
   "id": "1ef73512",
   "metadata": {},
   "outputs": [
    {
     "data": {
      "image/png": "[encoded data removed]",
      "text/plain": [
       "<Figure size 253.926x84.28 with 1 Axes>"
      ]
     },
     "execution_count": 81,
     "metadata": {},
     "output_type": "execute_result"
    }
   ],
   "source": [
    "class TrainLayer(QuantumCircuit):\n",
    "    \n",
    "    def __init__(self, nqbit=1, params = None, param_name='theta'):\n",
    "        super().__init__(nqbit)\n",
    "        if params is None:\n",
    "            self.params = ParameterVector(name=param_name, length=3)\n",
    "            self.u(self.params[0],self.params[1],self.params[2], 0)\n",
    "        else:\n",
    "            self.u(params[0],params[1],params[2], 0)\n",
    "        \n",
    "layer = TrainLayer()\n",
    "layer.draw(output='mpl')"
   ]
  },
  {
   "cell_type": "code",
   "execution_count": 86,
   "id": "fde8e0a5",
   "metadata": {},
   "outputs": [
    {
     "name": "stdout",
     "output_type": "stream",
     "text": [
      "W, ['W[0]', 'W[1]', 'W[2]', 'W[3]', 'W[4]', 'W[5]']\n",
      "0 3\n",
      "3 6\n"
     ]
    },
    {
     "data": {
      "image/png": "[encoded data removed]",
      "text/plain": [
       "<Figure size 554.926x84.28 with 1 Axes>"
      ]
     },
     "execution_count": 86,
     "metadata": {},
     "output_type": "execute_result"
    }
   ],
   "source": [
    "class ReuploadQNN(OpflowQNN):\n",
    "    \n",
    "    def __init__(self, num_features=3, reps=2):\n",
    "        \n",
    "        num_qubits=1\n",
    "    \n",
    "\n",
    "        self._encode = Encode(num_features)\n",
    "        layer = TrainLayer\n",
    "            \n",
    "        input_params = list(self._encode.params)\n",
    "            \n",
    "        self._transform = []\n",
    "        weight_params = ParameterVector(name='W', length=reps*3)\n",
    "        self.reps = reps\n",
    "        \n",
    "        self._circuit = QuantumCircuit(num_qubits)\n",
    "        \n",
    "        for i in range(reps):\n",
    "            idx0, idx1 = i*3,(i+1)*3\n",
    "            self._transform.append(layer(params = weight_params[idx0:idx1]))\n",
    "            self._circuit.append(self._encode, [0])\n",
    "            self._circuit.append(self._transform[i],[0])\n",
    "        \n",
    "        \n",
    "        self.observable = PauliSumOp.from_list([(\"Z\" * num_qubits, 1)])\n",
    "\n",
    "        \n",
    "        # combine all to operator\n",
    "        operator = ~StateFn(self.observable) @ StateFn(self._circuit)\n",
    "\n",
    "        super().__init__(\n",
    "            operator=operator,\n",
    "            input_params=input_params,\n",
    "            weight_params=weight_params,\n",
    "            exp_val=None,\n",
    "            quantum_instance=None,\n",
    "            input_gradients=False\n",
    "        )\n",
    "\n",
    "    @property\n",
    "    def encode(self) -> QuantumCircuit:\n",
    "        \"\"\"Returns the used feature map.\"\"\"\n",
    "        return self._encode\n",
    "\n",
    "    @property\n",
    "    def transform(self) -> [QuantumCircuit]:\n",
    "        \"\"\"Returns the used ansatz.\"\"\"\n",
    "        return self._transform\n",
    "\n",
    "    @property\n",
    "    def circuit(self) -> QuantumCircuit:\n",
    "        \"\"\"Returns the underlying quantum circuit.\"\"\"\n",
    "        return self._circuit\n",
    "\n",
    "    @property\n",
    "    def num_qubits(self) -> int:\n",
    "        \"\"\"Returns the number of qubits used by ansatz and feature map.\"\"\"\n",
    "        return self._circuit.num_qubits\n",
    "    \n",
    "    @property\n",
    "    def num_features(self) -> int:\n",
    "        \"\"\"Returns the number of features\"\"\"\n",
    "        return self._encode.params.num_features\n",
    "        \n",
    "        \n",
    "reup_qnn = ReuploadQNN()\n",
    "reup_qnn._circuit.decompose().draw(output=\"mpl\")"
   ]
  },
  {
   "cell_type": "code",
   "execution_count": 102,
   "id": "3a88d529",
   "metadata": {},
   "outputs": [
    {
     "data": {
      "text/plain": [
       "array([[0.92863951]])"
      ]
     },
     "execution_count": 102,
     "metadata": {},
     "output_type": "execute_result"
    }
   ],
   "source": [
    "# We can do a forward pass using any of the datapoints.\n",
    "# the output of the QNN  lies in [-1, +1]\n",
    "reup_qnn.forward(train_dataset.features[4, :], algorithm_globals.random.random((reup_qnn.num_weights)))"
   ]
  },
  {
   "cell_type": "markdown",
   "id": "4a0ba83e",
   "metadata": {},
   "source": [
    "We will add a callback function called callback_graph. This will be called for each iteration of the optimizer and will be passed two parameters: the current weights and the value of the objective function at those weights. For our function, we append the value of the objective function to an array so we can plot iteration versus objective function value and update the graph with each iteration. However, you can do whatever you want with a callback function as long as it gets the two parameters mentioned passed."
   ]
  },
  {
   "cell_type": "code",
   "execution_count": 91,
   "id": "6cda3c96",
   "metadata": {},
   "outputs": [],
   "source": [
    "# callback function that draws a live plot when the .fit() method is called\n",
    "def callback_graph(weights, obj_func_eval):\n",
    "    clear_output(wait=True)\n",
    "    objective_func_vals.append(obj_func_eval)\n",
    "    plt.title(\"Objective function value against iteration\")\n",
    "    plt.xlabel(\"Iteration\")\n",
    "    plt.ylabel(\"Objective function value\")\n",
    "    plt.plot(range(len(objective_func_vals)), objective_func_vals)\n",
    "    plt.show()"
   ]
  },
  {
   "cell_type": "markdown",
   "id": "42802908",
   "metadata": {},
   "source": [
    "# Classification\n",
    "\n",
    "we can now create the classfier and use it on our data."
   ]
  },
  {
   "cell_type": "code",
   "execution_count": 92,
   "id": "937347cb",
   "metadata": {},
   "outputs": [],
   "source": [
    "# construct neural network classifier\n",
    "opflow_classifier = NeuralNetworkClassifier(reup_qnn, optimizer=COBYLA(), callback=callback_graph)"
   ]
  },
  {
   "cell_type": "code",
   "execution_count": 98,
   "id": "33dd5ab7",
   "metadata": {},
   "outputs": [
    {
     "ename": "TypeError",
     "evalue": "fit() got an unexpected keyword argument 'n'",
     "output_type": "error",
     "traceback": [
      "\u001b[0;31m---------------------------------------------------------------------------\u001b[0m",
      "\u001b[0;31mTypeError\u001b[0m                                 Traceback (most recent call last)",
      "\u001b[0;32m<ipython-input-98-a2de51b443f6>\u001b[0m in \u001b[0;36m<module>\u001b[0;34m\u001b[0m\n\u001b[1;32m      4\u001b[0m \u001b[0;34m\u001b[0m\u001b[0m\n\u001b[1;32m      5\u001b[0m \u001b[0;31m# fit classifier to data\u001b[0m\u001b[0;34m\u001b[0m\u001b[0;34m\u001b[0m\u001b[0;34m\u001b[0m\u001b[0m\n\u001b[0;32m----> 6\u001b[0;31m \u001b[0mopflow_classifier\u001b[0m\u001b[0;34m.\u001b[0m\u001b[0mfit\u001b[0m\u001b[0;34m(\u001b[0m\u001b[0mtrain_dataset\u001b[0m\u001b[0;34m.\u001b[0m\u001b[0mfeatures\u001b[0m\u001b[0;34m,\u001b[0m \u001b[0mtrain_dataset\u001b[0m\u001b[0;34m.\u001b[0m\u001b[0mlabels\u001b[0m\u001b[0;34m,\u001b[0m \u001b[0mn\u001b[0m\u001b[0;34m=\u001b[0m\u001b[0;36m100\u001b[0m\u001b[0;34m)\u001b[0m\u001b[0;34m\u001b[0m\u001b[0;34m\u001b[0m\u001b[0m\n\u001b[0m\u001b[1;32m      7\u001b[0m \u001b[0;34m\u001b[0m\u001b[0m\n\u001b[1;32m      8\u001b[0m \u001b[0;31m# return to default figsize\u001b[0m\u001b[0;34m\u001b[0m\u001b[0;34m\u001b[0m\u001b[0;34m\u001b[0m\u001b[0m\n",
      "\u001b[0;31mTypeError\u001b[0m: fit() got an unexpected keyword argument 'n'"
     ]
    }
   ],
   "source": [
    "# create empty array for callback to store evaluations of the objective function\n",
    "objective_func_vals = []\n",
    "plt.rcParams[\"figure.figsize\"] = (12, 6)\n",
    "\n",
    "# fit classifier to data\n",
    "opflow_classifier.fit(train_dataset.features, train_dataset.labels)\n",
    "\n",
    "# return to default figsize\n",
    "plt.rcParams[\"figure.figsize\"] = (6, 4)\n",
    "\n",
    "# reset data labels\n",
    "test_dataset.labels[test_dataset.labels==0] = -1\n",
    "\n",
    "# score classifier\n",
    "opflow_classifier.score(test_dataset.features, test_dataset.labels)"
   ]
  },
  {
   "cell_type": "code",
   "execution_count": 97,
   "id": "8d9f9b1e",
   "metadata": {},
   "outputs": [
    {
     "name": "stdout",
     "output_type": "stream",
     "text": [
      "[[1.]\n",
      " [1.]\n",
      " [1.]\n",
      " [1.]\n",
      " [1.]\n",
      " [1.]\n",
      " [1.]\n",
      " [1.]\n",
      " [1.]\n",
      " [1.]\n",
      " [1.]\n",
      " [1.]\n",
      " [1.]\n",
      " [1.]\n",
      " [1.]\n",
      " [1.]\n",
      " [1.]\n",
      " [1.]\n",
      " [1.]\n",
      " [1.]]\n"
     ]
    },
    {
     "data": {
      "image/png": "[encoded data removed]",
      "text/plain": [
       "<Figure size 432x288 with 1 Axes>"
      ]
     },
     "metadata": {
      "needs_background": "light"
     },
     "output_type": "display_data"
    }
   ],
   "source": [
    "# plot the data\n",
    "predicted_labels = opflow_classifier.predict(test_dataset.features)\n",
    "\n",
    "plt.scatter(train_dataset.features[:,0],train_dataset.features[:,1],c=train_dataset.labels,alpha=0.5,s=2)\n",
    "plt.scatter(test_dataset.features[:,0],test_dataset.features[:,1],c=predicted_labels)\n",
    "for x, y, yp in zip(test_dataset.features, test_dataset.labels, predicted_labels):\n",
    "    if y != yp:\n",
    "        plt.scatter(x[0], x[1], s=200, facecolors=\"none\", edgecolors=\"r\", linestyle='--',linewidths=1)\n",
    "        "
   ]
  },
  {
   "cell_type": "code",
   "execution_count": null,
   "id": "2a7ab399",
   "metadata": {},
   "outputs": [],
   "source": []
  }
 ],
 "metadata": {
  "kernelspec": {
   "display_name": "Python 3",
   "language": "python",
   "name": "python3"
  },
  "language_info": {
   "codemirror_mode": {
    "name": "ipython",
    "version": 3
   },
   "file_extension": ".py",
   "mimetype": "text/x-python",
   "name": "python",
   "nbconvert_exporter": "python",
   "pygments_lexer": "ipython3",
   "version": "3.8.0"
  }
 },
 "nbformat": 4,
 "nbformat_minor": 5
}
