{
 "cells": [
  {
   "cell_type": "markdown",
   "id": "4f0538ec",
   "metadata": {},
   "source": [
    "# Training Quantum Kernels\n",
    "\n",
    "Here we train a quantum kernel on on our pulsar dataset using Quantum Kernel Alignment (QKA). QKA is a technique that iteratively adapts a parametrized quantum kernel to a dataset while converging to the maximum SVM margin. More information about QKA can be found in the preprint, “Covariant quantum kernels for data with group structure.”"
   ]
  },
  {
   "cell_type": "code",
   "execution_count": 10,
   "id": "c05e4b9e",
   "metadata": {},
   "outputs": [],
   "source": [
    "# External imports\n",
    "from pylab import cm\n",
    "import pandas as pd\n",
    "from sklearn import metrics\n",
    "import numpy as np\n",
    "import matplotlib.pyplot as plt\n",
    "\n",
    "%matplotlib inline\n",
    "\n",
    "# Qiskit imports\n",
    "from qiskit import QuantumCircuit\n",
    "from qiskit.circuit import ParameterVector\n",
    "from qiskit.providers.aer import AerSimulator\n",
    "from qiskit.visualization import circuit_drawer\n",
    "from qiskit.algorithms.optimizers import SPSA\n",
    "from qiskit.circuit.library import ZZFeatureMap\n",
    "from qiskit_machine_learning.kernels import QuantumKernel\n",
    "from qiskit_machine_learning.kernels.algorithms import QuantumKernelTrainer\n",
    "from qiskit_machine_learning.algorithms import QSVC\n",
    "\n",
    "from dataset import read_dataset, divide_dataset, balance_dataset"
   ]
  },
  {
   "cell_type": "code",
   "execution_count": 11,
   "id": "401bde39",
   "metadata": {},
   "outputs": [],
   "source": [
    "class QKTCallback:\n",
    "    \"\"\"Callback wrapper class.\"\"\"\n",
    "\n",
    "    def __init__(self) -> None:\n",
    "        self._data = [[] for i in range(5)]\n",
    "\n",
    "    def callback(self, x0, x1=None, x2=None, x3=None, x4=None):\n",
    "        \"\"\"\n",
    "        Args:\n",
    "            x0: number of function evaluations\n",
    "            x1: the parameters\n",
    "            x2: the function value\n",
    "            x3: the stepsize\n",
    "            x4: whether the step was accepted\n",
    "        \"\"\"\n",
    "        self._data[0].append(x0)\n",
    "        self._data[1].append(x1)\n",
    "        self._data[2].append(x2)\n",
    "        self._data[3].append(x3)\n",
    "        self._data[4].append(x4)\n",
    "\n",
    "    def get_callback_data(self):\n",
    "        return self._data\n",
    "\n",
    "    def clear_callback_data(self):\n",
    "        self._data = [[] for i in range(5)]"
   ]
  },
  {
   "cell_type": "markdown",
   "id": "5f314b6e",
   "metadata": {},
   "source": [
    "# Data\n",
    "\n",
    "As usual we use the HTRU2 data for pulsar. We load it and extract a small subset of the data here.\n"
   ]
  },
  {
   "cell_type": "code",
   "execution_count": 13,
   "id": "4942dfe9",
   "metadata": {},
   "outputs": [
    {
     "data": {
      "text/plain": [
       "<matplotlib.collections.PathCollection at 0x7f1f858f09d0>"
      ]
     },
     "execution_count": 13,
     "metadata": {},
     "output_type": "execute_result"
    },
    {
     "data": {
      "image/png": "[encoded data removed]",
      "text/plain": [
       "<Figure size 432x288 with 1 Axes>"
      ]
     },
     "metadata": {
      "needs_background": "light"
     },
     "output_type": "display_data"
    }
   ],
   "source": [
    "# read the data\n",
    "dataset = read_dataset()\n",
    "\n",
    "# extract a balances subset containing a limited number of points\n",
    "npts = 50\n",
    "dataset = balance_dataset(dataset, npts)\n",
    "\n",
    "# only consider a subset of the features\n",
    "features = [0,1,4]\n",
    "nfeatures = len(features)\n",
    "dataset.features = dataset.features[:,features]\n",
    "\n",
    "# normalize the data between 0 and 2pi\n",
    "dataset.features -= dataset.features.min(0)\n",
    "dataset.features /= dataset.features.max(0)\n",
    "dataset.features *= 2*np.pi\n",
    "\n",
    "\n",
    "# divide the dataset in train/test\n",
    "train_dataset, test_dataset = divide_dataset(dataset, shuffle=False)\n",
    "\n",
    "# plot the data\n",
    "plt.scatter(train_dataset.features[:,0],train_dataset.features[:,1],c=train_dataset.labels,s=2,alpha=0.5)\n",
    "plt.scatter(test_dataset.features[:,0],test_dataset.features[:,1],c=test_dataset.labels)"
   ]
  },
  {
   "cell_type": "markdown",
   "id": "c7db4e5e",
   "metadata": {},
   "source": [
    "# Define the Quantum Feature Map\n",
    "\n",
    "As for the nornal kernel method we need to define a quantum feature map that transforms the classical data into a quantum circuit. At the difference of the previous case, the map here contains at least one trainable parameter"
   ]
  },
  {
   "cell_type": "code",
   "execution_count": 14,
   "id": "dece4261",
   "metadata": {},
   "outputs": [
    {
     "data": {
      "image/png": "[encoded data removed]",
      "text/plain": [
       "<Figure size 1591.6x204.68 with 1 Axes>"
      ]
     },
     "execution_count": 14,
     "metadata": {},
     "output_type": "execute_result"
    }
   ],
   "source": [
    "# Create a rotational layer to train. We will rotate each qubit the same amount.\n",
    "user_params = ParameterVector(\"θ\", 3)\n",
    "fm0 = QuantumCircuit(nfeatures)\n",
    "fm0.ry(user_params[0], 0)\n",
    "fm0.ry(user_params[1], 1)\n",
    "fm0.ry(user_params[2], 2)\n",
    "\n",
    "# Use ZZFeatureMap to represent input data\n",
    "fm1 = ZZFeatureMap(feature_dimension=nfeatures, reps=2, entanglement=\"linear\")\n",
    "\n",
    "# Create the feature map, composed of our two circuits\n",
    "fm = fm0.compose(fm1)\n",
    "\n",
    "fm.decompose().draw(output=\"mpl\")\n",
    "# print(f\"Trainable parameters: {user_params}\")"
   ]
  },
  {
   "cell_type": "markdown",
   "id": "f1f25919",
   "metadata": {},
   "source": [
    "# Quantum Kernel and kernel trainer\n",
    "\n",
    "To train the quantum kernel, we need a QuantumKernel (holds the feature map and its parameters) and QuantumKernelTrainer (manages the training process).\n",
    "\n",
    "We will train using the Quantum Kernel Alignment technique by selecting the kernel loss function, SVCLoss, as input to the QuantumKernelTrainer. Since this is a Qiskit-supported loss, we can use the string, \"svc_loss\"; however, note that default settings are used when passing the loss as a string. For custom settings, instantiate explicitly with the desired options, and pass the KernelLoss object to the QuantumKernelTrainer.\n",
    "\n",
    "We will select SPSA as the optimizer and initialize the trainable parameter with the initial_point argument. Note: The length of the list passed as the initial_point argument must equal the number of trainable parameters in the feature map.\n"
   ]
  },
  {
   "cell_type": "code",
   "execution_count": 15,
   "id": "b0baac6c",
   "metadata": {},
   "outputs": [],
   "source": [
    "# Use the qasm simulator backend\n",
    "backend = AerSimulator(method=\"statevector\")\n",
    "\n",
    "# Instantiate quantum kernel\n",
    "quant_kernel = QuantumKernel(fm, user_parameters=user_params, quantum_instance=backend)\n",
    "\n",
    "# Set up the optimizer\n",
    "cb_qkt = QKTCallback()\n",
    "spsa_opt = SPSA(maxiter=10, callback=cb_qkt.callback, learning_rate=0.05, perturbation=0.05)\n",
    "\n",
    "# Instantiate a quantum kernel trainer.\n",
    "qkt = QuantumKernelTrainer(\n",
    "    quantum_kernel=quant_kernel, loss=\"svc_loss\", optimizer=spsa_opt, initial_point=[np.pi / 2]*3\n",
    ")"
   ]
  },
  {
   "cell_type": "markdown",
   "id": "68292804",
   "metadata": {},
   "source": [
    "# Train the kernel\n",
    "\n",
    "To train the quantum kernel on the dataset (samples and labels), we call the fit method of QuantumKernelTrainer.\n",
    "\n",
    "The output of QuantumKernelTrainer.fit is a QuantumKernelTrainerResult object. The results object contains the following class fields: - optimal_parameters: A dictionary containing {parameter: optimal value} pairs - optimal_point: The optimal parameter value found in training - optimal_value: The value of the loss function at the optimal point - optimizer_evals: The number of evaluations performed by the optimizer - optimizer_time: The amount of time taken to perform optimization - quantum_kernel: A QuantumKernel object with optimal values bound to the feature map"
   ]
  },
  {
   "cell_type": "code",
   "execution_count": 16,
   "id": "568db08b",
   "metadata": {},
   "outputs": [
    {
     "name": "stdout",
     "output_type": "stream",
     "text": [
      "{   'optimal_parameters': {   ParameterVectorElement(θ[1]): 1.5002831679481456,\n",
      "                              ParameterVectorElement(θ[2]): 1.3978785550863453,\n",
      "                              ParameterVectorElement(θ[0]): 2.404440448839223},\n",
      "    'optimal_point': array([2.40444045, 1.50028317, 1.39787856]),\n",
      "    'optimal_value': 19.912153830651384,\n",
      "    'optimizer_evals': 30,\n",
      "    'optimizer_time': None,\n",
      "    'quantum_kernel': <qiskit_machine_learning.kernels.quantum_kernel.QuantumKernel object at 0x7f1f85852970>}\n"
     ]
    }
   ],
   "source": [
    "# Train the kernel using QKT directly\n",
    "qka_results = qkt.fit(train_dataset.features, train_dataset.labels)\n",
    "optimized_kernel = qka_results.quantum_kernel\n",
    "print(qka_results)"
   ]
  },
  {
   "cell_type": "markdown",
   "id": "f06223f3",
   "metadata": {},
   "source": [
    "# Fit and test the model\n",
    "\n",
    "We can pass the trained quantum kernel to a machine learning model, then fit the model and test on new data. Here, we will use Qiskit’s QSVC for classification."
   ]
  },
  {
   "cell_type": "code",
   "execution_count": 17,
   "id": "c5011285",
   "metadata": {},
   "outputs": [
    {
     "name": "stdout",
     "output_type": "stream",
     "text": [
      "accuracy test: 0.5\n"
     ]
    }
   ],
   "source": [
    "# Use QSVC for classification\n",
    "qsvc = QSVC(quantum_kernel=optimized_kernel)\n",
    "\n",
    "# Fit the QSVC\n",
    "qsvc.fit(train_dataset.features, train_dataset.labels)\n",
    "\n",
    "# Predict the labels\n",
    "labels_test = qsvc.predict(test_dataset.features)\n",
    "\n",
    "# Evalaute the test accuracy\n",
    "accuracy_test = metrics.balanced_accuracy_score(y_true=test_dataset.labels, y_pred=labels_test)\n",
    "print(f\"accuracy test: {accuracy_test}\")"
   ]
  },
  {
   "cell_type": "code",
   "execution_count": 18,
   "id": "beb1f24c",
   "metadata": {},
   "outputs": [
    {
     "data": {
      "image/png": "[encoded data removed]",
      "text/plain": [
       "<Figure size 432x288 with 1 Axes>"
      ]
     },
     "metadata": {
      "needs_background": "light"
     },
     "output_type": "display_data"
    }
   ],
   "source": [
    "# plot the data\n",
    "pred = qsvc.predict(test_dataset.features)\n",
    "\n",
    "plt.scatter(train_dataset.features[:,0],train_dataset.features[:,1],c=train_dataset.labels,s=2,alpha=0.5)\n",
    "plt.scatter(test_dataset.features[:,0],test_dataset.features[:,1],c=pred)\n",
    "for x,y,yp in zip(test_dataset.features, test_dataset.labels, pred):\n",
    "    if y!=yp:\n",
    "        plt.scatter(x[0],x[1],facecolors='none', edgecolors='red', s=200, linewidth=1,linestyle='--')"
   ]
  },
  {
   "cell_type": "markdown",
   "id": "1972b524",
   "metadata": {},
   "source": [
    "# Visualizing the training process\n",
    "\n",
    "From the callback data, we can plot how the loss evolves during the training process. We see it converges rapidly and reaches 100% test accuracy on this dataset with our choice of inputs.\n",
    "\n",
    "We can also display the final kernel matrix, which is a measure of similarity between the training samples."
   ]
  },
  {
   "cell_type": "code",
   "execution_count": 9,
   "id": "6fbd093a",
   "metadata": {},
   "outputs": [
    {
     "data": {
      "image/png": "[encoded data removed]",
      "text/plain": [
       "<Figure size 1008x360 with 2 Axes>"
      ]
     },
     "metadata": {
      "needs_background": "light"
     },
     "output_type": "display_data"
    }
   ],
   "source": [
    "plot_data = cb_qkt.get_callback_data()  # callback data\n",
    "K = optimized_kernel.evaluate(train_dataset.features)  # kernel matrix evaluated on the training samples\n",
    "\n",
    "plt.rcParams[\"font.size\"] = 20\n",
    "fig, ax = plt.subplots(1, 2, figsize=(14, 5))\n",
    "ax[0].plot([i + 1 for i in range(len(plot_data[0]))], np.array(plot_data[2]), c=\"k\", marker=\"o\")\n",
    "ax[0].set_xlabel(\"Iterations\")\n",
    "ax[0].set_ylabel(\"Loss\")\n",
    "ax[1].imshow(K, cmap=cm.get_cmap(\"bwr\", 20))\n",
    "fig.tight_layout()\n",
    "plt.show()"
   ]
  },
  {
   "cell_type": "code",
   "execution_count": null,
   "id": "3386b343",
   "metadata": {},
   "outputs": [],
   "source": []
  }
 ],
 "metadata": {
  "kernelspec": {
   "display_name": "Python 3",
   "language": "python",
   "name": "python3"
  },
  "language_info": {
   "codemirror_mode": {
    "name": "ipython",
    "version": 3
   },
   "file_extension": ".py",
   "mimetype": "text/x-python",
   "name": "python",
   "nbconvert_exporter": "python",
   "pygments_lexer": "ipython3",
   "version": "3.8.0"
  }
 },
 "nbformat": 4,
 "nbformat_minor": 5
}
