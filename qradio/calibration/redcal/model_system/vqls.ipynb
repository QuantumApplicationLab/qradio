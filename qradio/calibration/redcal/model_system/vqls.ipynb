{
 "cells": [
  {
   "cell_type": "markdown",
   "metadata": {
    "tags": [
     "remove_cell"
    ]
   },
   "source": [
    "# The Variational Quantum Linear Solver for Redundant Calibration"
   ]
  },
  {
   "cell_type": "code",
   "execution_count": 1,
   "metadata": {},
   "outputs": [],
   "source": [
    "import qiskit\n",
    "from qiskit import QuantumCircuit, QuantumRegister, ClassicalRegister\n",
    "from qiskit.quantum_info.operators import Operator\n",
    "from qiskit import Aer, transpile, assemble\n",
    "import math\n",
    "import random\n",
    "import numpy as np\n",
    "from scipy.optimize import minimize\n",
    "\n",
    "from vqls_redcal_utils import get_antnennas_response"
   ]
  },
  {
   "cell_type": "markdown",
   "metadata": {},
   "source": [
    "## 1. Redundant Calibration\n",
    "\n",
    "We consider here the case of 5 antennas that are positionned in a row. The positions of the antennas are given by :"
   ]
  },
  {
   "cell_type": "code",
   "execution_count": 2,
   "metadata": {},
   "outputs": [],
   "source": [
    "n_ant = 5\n",
    "xpos = np.linspace(-2, 2, n_ant)[:,None]"
   ]
  },
  {
   "cell_type": "markdown",
   "metadata": {},
   "source": [
    "The magnitude matrix is in this case given by :"
   ]
  },
  {
   "cell_type": "code",
   "execution_count": 3,
   "metadata": {},
   "outputs": [],
   "source": [
    "Mmag = np.matrix(\n",
    "    [[1, 1, 0, 0, 0, 1, 0, 0],     # baseline type 1 (4 rows)\n",
    "     [0, 1, 1, 0, 0, 1, 0, 0],\n",
    "     [0, 0, 1, 1, 0, 1, 0, 0],\n",
    "     [0, 0, 0, 1, 1, 1, 0, 0],\n",
    "     [1, 0, 1, 0, 0, 0, 1, 0],     # baseline type 2 (3 rows)\n",
    "     [0, 1, 0, 1, 0, 0, 1, 0],\n",
    "     [0, 0, 1, 0, 1, 0, 1, 0],\n",
    "     [1, 0, 0, 1, 0, 0, 0, 1],     # baseline type 3 (2 row)\n",
    "     [0, 1, 0, 0, 1, 0, 0, 1],\n",
    "     [1, 0, 0, 0, 0, 0, 0, 0]])    # magnitude constraint"
   ]
  },
  {
   "cell_type": "markdown",
   "metadata": {},
   "source": [
    "The redundant calibration is then reduced to solving the least square problem [https://arxiv.org/pdf/1004.0156.pdf]\n",
    "\n",
    "$$\n",
    "M_{mag} \\theta = b\n",
    "$$\n",
    "\n",
    "where $b$ is given by the response of the antennas. For convenience we have packaged that response in a small method "
   ]
  },
  {
   "cell_type": "code",
   "execution_count": 4,
   "metadata": {},
   "outputs": [],
   "source": [
    "b = get_antnennas_response(xpos)"
   ]
  },
  {
   "cell_type": "markdown",
   "metadata": {},
   "source": [
    "## 2. Variational Quantum Linear Solver\n",
    "\n",
    "The Variational Quantum Linear Solver, or the VQLS is a variational quantum algorithm that utilizes VQE in order to solve systems of linear equations more efficiently than classical computational algorithms. Specifically, if we are given some matrix $\\textbf{A}$, such that $\\textbf{A} |\\textbf{x}\\rangle \\ = \\ |\\textbf{b}\\rangle$, where $|\\textbf{b}\\rangle$ is some known vector, the VQLS algorithm is theoretically able to find a normalized $|x\\rangle$ that is proportional to $|\\textbf{x}\\rangle$, which makes the above relationship true.\n",
    "\n",
    "The output of this algorithm is identical to that of the HHL Quantum Linear-Solving Algorithm, except, while HHL provides a much more favourable computation speedup over VQLS, the variational nature of our algorithm allows for it to be performed on NISQ quantum computers, while HHL would require much more robust quantum hardware, and many more qubits.\n",
    "\n",
    "The details of the algorithm can be found in the original paper :\n",
    "\n",
    "\"Variational Quantum Linear Solver: A Hybrid Algorithm for Linear Systems\", written by Carlos Bravo-Prieto, Ryan LaRose, M. Cerezo, Yiğit Subaşı, Lukasz Cincio, and Patrick J. Coles, which is available at [this](https://arxiv.org/abs/1909.05820) link.\n",
    "\n",
    "And this implementation is largely based on the Qiskit tutorial\n",
    "\n",
    "https://qiskit.org/textbook/ch-paper-implementations/vqls.html\n",
    "\n"
   ]
  },
  {
   "cell_type": "markdown",
   "metadata": {},
   "source": [
    "## 3. Adapting the Redcal problem to VQLS\n",
    "\n",
    "One of the main complication of VQLS for redundant calibration is that the matrix $\\textbf{A}$ must be decomposed as a sum of unitary matrices :\n",
    "\n",
    "$$A \\ = \\ \\displaystyle\\sum_{n} c_n \\ A_n$$\n",
    "\n",
    "The matrix $M_{mag}$ is not even square which makes it difficult to \n",
    "apply VQLS to Redcal.\n",
    "\n",
    "### Transforming a least square to a linear system\n",
    "\n",
    "In order to be able to use VQLS for redundant calibration we can manipulate our least square problem as followed :\n",
    "\n",
    "$$ M_{mag} \\theta = b $$\n",
    "\n",
    "Multiplying on both sides by $M_{mag}^{\\dagger}$ one obtain:\n",
    "\n",
    "$$ M_{mag}^{\\dagger} M_{mag} \\theta = M_{mag}^{\\dagger} b $$\n",
    "\n",
    "The matrix $A = M_{mag}^{\\dagger} M_{mag}$ is now symmetric which is a good start to find a unitary decomposition of it. One then  obtain the linear system\n",
    "\n",
    "$$ A \\theta = \\tilde{b} $$\n",
    "\n",
    "with $\\tilde{b} = M_{mag}^{\\dagger} b$"
   ]
  },
  {
   "cell_type": "code",
   "execution_count": 5,
   "metadata": {},
   "outputs": [
    {
     "name": "stdout",
     "output_type": "stream",
     "text": [
      "[[4 1 1 1 0 1 1 1]\n",
      " [1 4 1 1 1 2 1 1]\n",
      " [1 1 4 1 1 2 2 0]\n",
      " [1 1 1 4 1 2 1 1]\n",
      " [0 1 1 1 3 1 1 1]\n",
      " [1 2 2 2 1 4 0 0]\n",
      " [1 1 2 1 1 0 3 0]\n",
      " [1 1 0 1 1 0 0 2]]\n"
     ]
    }
   ],
   "source": [
    "A = Mmag.T@Mmag\n",
    "print(A)"
   ]
  },
  {
   "cell_type": "code",
   "execution_count": 6,
   "metadata": {},
   "outputs": [
    {
     "name": "stdout",
     "output_type": "stream",
     "text": [
      "[[-0.17824497]\n",
      " [-1.01201257]\n",
      " [-1.74705225]\n",
      " [-1.35612298]\n",
      " [-1.00426601]\n",
      " [-1.92144304]\n",
      " [-0.95226479]\n",
      " [ 0.22485844]]\n"
     ]
    }
   ],
   "source": [
    "btilde = Mmag.T@b\n",
    "print(btilde)"
   ]
  },
  {
   "cell_type": "markdown",
   "metadata": {},
   "source": [
    "### Unitary decomposition \n",
    "\n",
    "Unitary decomposition of matrices is currently an active topic of research given the importance of such decompoisition in quantum computing See for example [this](https://arxiv.org/pdf/2101.02993.pdf).\n",
    "\n",
    "While it is difficult at the moment to find the best decomposition of our matrix $A$, we can rely for the moment on techniques explained [here](https://math.stackexchange.com/questions/1710247/every-matrix-can-be-written-as-a-sum-of-unitary-matrices/1710390#1710390), to decompose our matrix in 4 unitary matrices.\n",
    "\n",
    "In this example the contribution of the last two matrices cancel each other and we can therefore limit the decomposition to the 2 unitary matrices"
   ]
  },
  {
   "cell_type": "code",
   "execution_count": 7,
   "metadata": {},
   "outputs": [
    {
     "name": "stdout",
     "output_type": "stream",
     "text": [
      "[[4.+0.j 1.+0.j 1.+0.j 1.+0.j 0.+0.j 1.+0.j 1.+0.j 1.+0.j]\n",
      " [1.+0.j 4.+0.j 1.+0.j 1.+0.j 1.+0.j 2.+0.j 1.+0.j 1.+0.j]\n",
      " [1.+0.j 1.+0.j 4.+0.j 1.+0.j 1.+0.j 2.+0.j 2.+0.j 0.+0.j]\n",
      " [1.+0.j 1.+0.j 1.+0.j 4.+0.j 1.+0.j 2.+0.j 1.+0.j 1.+0.j]\n",
      " [0.+0.j 1.+0.j 1.+0.j 1.+0.j 3.+0.j 1.+0.j 1.+0.j 1.+0.j]\n",
      " [1.+0.j 2.+0.j 2.+0.j 2.+0.j 1.+0.j 4.+0.j 0.+0.j 0.+0.j]\n",
      " [1.+0.j 1.+0.j 2.+0.j 1.+0.j 1.+0.j 0.+0.j 3.+0.j 0.+0.j]\n",
      " [1.+0.j 1.+0.j 0.+0.j 1.+0.j 1.+0.j 0.+0.j 0.+0.j 2.+0.j]]\n"
     ]
    }
   ],
   "source": [
    "from unitary_decomp import unitary_decomposition, unitary_recomposition\n",
    "coeffs_An, An = unitary_decomposition(A)\n",
    "coeffs_An, An = coeffs_An[:2], An[:2]\n",
    "print(unitary_recomposition(coeffs_An, An))"
   ]
  },
  {
   "cell_type": "code",
   "execution_count": 8,
   "metadata": {},
   "outputs": [
    {
     "name": "stdout",
     "output_type": "stream",
     "text": [
      "[[ 1.00000000e+00+1.08981513e-18j  6.60326252e-16-4.14109100e-17j\n",
      "   3.99625217e-16-6.56601311e-17j  9.08740263e-16-4.61813996e-17j\n",
      "   2.01405377e-16-6.26612726e-17j -6.37003744e-16+2.00270278e-17j\n",
      "  -5.67439607e-16+7.46556317e-18j -3.69242063e-16+1.03660954e-16j]\n",
      " [ 6.60326252e-16+4.04782151e-17j  1.00000000e+00-2.58749579e-17j\n",
      "  -3.81230096e-16-1.66541929e-17j -5.35286884e-16-5.40642144e-17j\n",
      "   5.22160054e-16+6.51980246e-17j  1.30044456e-15-3.98209322e-17j\n",
      "   6.35699552e-16-1.04857782e-16j  2.47543562e-16+1.15915025e-18j]\n",
      " [ 3.99625217e-16+6.60938119e-17j -3.81230096e-16+3.05319807e-17j\n",
      "   1.00000000e+00-1.21712919e-17j -4.47269563e-16+3.31340659e-17j\n",
      "   1.36045331e-15+6.00222798e-17j  1.66077990e-15-4.11786299e-17j\n",
      "   1.26127606e-15-1.82569379e-17j -3.14119996e-17-7.55455124e-17j]\n",
      " [ 9.08740263e-16+5.15456715e-17j -5.35286884e-16+5.02446289e-17j\n",
      "  -4.47269563e-16-1.27510650e-17j  1.00000000e+00+4.70813764e-18j\n",
      "   9.90414980e-16+4.50404585e-17j  1.30991472e-15-9.27299982e-17j\n",
      "   5.83307781e-16-1.10061952e-16j  5.43039829e-16-2.35434708e-17j]\n",
      " [ 2.01405377e-16+6.41379863e-17j  5.22160054e-16-6.33641892e-17j\n",
      "   1.36045331e-15-5.87212372e-17j  9.90414980e-16-5.83768592e-17j\n",
      "   1.00000000e+00+4.50686678e-18j -8.13402856e-16+2.26291130e-17j\n",
      "  -6.45952951e-16+1.98254679e-17j -2.36672521e-16-1.39460730e-18j]\n",
      " [-6.37003744e-16-2.34964747e-17j  1.30044456e-15+3.89535704e-17j\n",
      "   1.66077990e-15+4.03112682e-17j  1.30991472e-15+9.44647217e-17j\n",
      "  -8.13402856e-16-2.34964747e-17j  1.00000000e+00+2.57018371e-17j\n",
      "  -4.01930336e-17+1.83998580e-17j  3.51242095e-17+8.95188267e-18j]\n",
      " [-5.68989300e-16-6.93889390e-18j  6.38378239e-16+8.32667268e-17j\n",
      "   1.26287869e-15+5.55111512e-17j  5.82867088e-16+9.71445147e-17j\n",
      "  -6.45317133e-16-1.38777878e-17j -4.85722573e-17-2.08166817e-17j\n",
      "   1.00000000e+00+0.00000000e+00j  9.54097912e-16-4.68375339e-17j]\n",
      " [-3.74700271e-16-9.71445147e-17j  2.49800181e-16+0.00000000e+00j\n",
      "  -3.12250226e-17+7.63278329e-17j  5.48172618e-16+1.38777878e-17j\n",
      "  -2.42861287e-16-6.93889390e-18j  2.08166817e-17-6.93889390e-18j\n",
      "   9.54097912e-16+4.68375339e-17j  1.00000000e+00+0.00000000e+00j]]\n"
     ]
    }
   ],
   "source": [
    "print(An[0]@An[0].T.conj())"
   ]
  },
  {
   "cell_type": "code",
   "execution_count": 9,
   "metadata": {},
   "outputs": [
    {
     "name": "stdout",
     "output_type": "stream",
     "text": [
      "0.49999999999999994\n"
     ]
    }
   ],
   "source": [
    "import scipy.linalg as spla\n",
    "\n",
    "A = np.random.rand(4,8)\n",
    "A = A.T @ A\n",
    "\n",
    "n = 2*np.linalg.norm(A)\n",
    "A = A/n\n",
    "\n",
    "B = 0.5*(A + A.T)\n",
    "C = -0.5j*(A - A.T)\n",
    "\n",
    "B2 = np.linalg.matrix_power(B,2)\n",
    "Ub = 0.5*(B + 1.0j*spla.sqrtm(np.eye(8)-B2)) \n",
    "\n",
    "print(np.linalg.norm(A))"
   ]
  },
  {
   "cell_type": "markdown",
   "metadata": {},
   "source": [
    "### Creation of the $\\tilde{b}$ vector\n",
    "\n",
    "VQLS aslo require an operator that creates the rhs of the linear system from the $|0\\rangle$ state. In other words we define an operator $U_b$ so that :\n",
    "\n",
    "$$\n",
    "U_b|0\\rangle = |\\tilde{b}\\rangle\n",
    "$$\n",
    "\n",
    "We do that by using Qiskit to create a circuit, initialize the state of the circuit to $|\\tilde{b}\\rangle$ and extract the matrix of the circuit. There might be better ways of doing this."
   ]
  },
  {
   "cell_type": "code",
   "execution_count": 10,
   "metadata": {},
   "outputs": [
    {
     "name": "stdout",
     "output_type": "stream",
     "text": [
      "Operator([[-0.0523231 +0.j,  0.29707227-0.j,  0.11261186-0.j,\n",
      "           -0.63937077+0.j,  0.05103444-0.j, -0.28975571+0.j,\n",
      "           -0.10983835+0.j,  0.62362376-0.j],\n",
      "          [-0.29707227+0.j, -0.0523231 +0.j,  0.63937077-0.j,\n",
      "            0.11261186-0.j,  0.28975571-0.j,  0.05103444-0.j,\n",
      "           -0.62362376+0.j, -0.10983835+0.j],\n",
      "          [-0.51284025+0.j,  0.39808452-0.j, -0.23828212+0.j,\n",
      "            0.1849629 -0.j,  0.50020956-0.j, -0.38828013+0.j,\n",
      "            0.23241349-0.j, -0.18040747+0.j],\n",
      "          [-0.39808452+0.j, -0.51284025+0.j, -0.1849629 +0.j,\n",
      "           -0.23828212+0.j,  0.38828013-0.j,  0.50020956-0.j,\n",
      "            0.18040747-0.j,  0.23241349-0.j],\n",
      "          [-0.2947983 +0.j,  0.56403198-0.j,  0.13304331-0.j,\n",
      "           -0.25454924+0.j, -0.3022422 +0.j,  0.57827424-0.j,\n",
      "            0.13640276-0.j, -0.26097681+0.j],\n",
      "          [-0.56403198+0.j, -0.2947983 +0.j,  0.25454924-0.j,\n",
      "            0.13304331-0.j, -0.57827424+0.j, -0.3022422 +0.j,\n",
      "            0.26097681-0.j,  0.13640276-0.j],\n",
      "          [-0.27953355+0.j,  0.0660063 -0.j, -0.61939239+0.j,\n",
      "            0.14625723-0.j, -0.286592  +0.j,  0.06767302-0.j,\n",
      "           -0.63503255+0.j,  0.14995034-0.j],\n",
      "          [ 0.0660063 -0.j,  0.27953355-0.j,  0.14625723-0.j,\n",
      "            0.61939239-0.j,  0.06767302-0.j,  0.286592  -0.j,\n",
      "            0.14995034-0.j,  0.63503255-0.j]],\n",
      "         input_dims=(2, 2, 2), output_dims=(2, 2, 2))\n"
     ]
    }
   ],
   "source": [
    "from get_b import get_b_unitmatrix\n",
    "norm_btilde, Ub_mat = get_b_unitmatrix(btilde, 3, decimals=12)\n",
    "print(Ub_mat)"
   ]
  },
  {
   "cell_type": "markdown",
   "metadata": {},
   "source": [
    "## 4. Qiskit Implementation\n",
    "\n",
    "### Wave function Ansatz\n",
    "\n",
    "VQLS works by optimizing a wave function ansatz $|\\psi(\\alpha)\\rangle$ that depends on variational parameters $\\alpha$ and that should approximate the solution of the linear system, i.e. $|\\psi(\\alpha)\\rangle\\approx|\\theta\\rangle$ in our case.\n",
    "\n",
    "The creation of this wave function ansatz is done through a module $V(\\alpha)$ that acts as follows:\n",
    "\n",
    "$$\n",
    "V(\\alpha)|0\\rangle = |\\psi(\\alpha)\\rangle\n",
    "$$\n",
    "\n",
    "Many possibilities exists to define $V(\\alpha)$. We use here a simple module described in the original paper"
   ]
  },
  {
   "cell_type": "code",
   "execution_count": 11,
   "metadata": {},
   "outputs": [
    {
     "data": {
      "image/png": "[encoded data removed]",
      "text/plain": [
       "<Figure size 507.997x204.68 with 1 Axes>"
      ]
     },
     "execution_count": 11,
     "metadata": {},
     "output_type": "execute_result"
    }
   ],
   "source": [
    "from vqls_redcal_utils import apply_fixed_ansatz\n",
    "circ = QuantumCircuit(3)\n",
    "apply_fixed_ansatz(circ, [0, 1, 2], [[1, 1, 1], [1, 1, 1], [1, 1, 1]])\n",
    "circ.draw(output='mpl')"
   ]
  },
  {
   "cell_type": "markdown",
   "metadata": {},
   "source": [
    "### Hadamard Test\n",
    "\n",
    "VQLS relies on the Hadammard test to compute terms such as \n",
    "\n",
    "$$\\langle \\Phi | \\Phi \\rangle \\ = \\ \\langle \\psi(k) | A^{\\dagger} A |\\psi(k) \\rangle \\ = \\ \\langle 0 | V(k)^{\\dagger} A^{\\dagger} A V(k) |0\\rangle \\ = \\ \\langle 0 | V(k)^{\\dagger} \\Big( \\displaystyle\\sum_{n} c_n \\ A_n \\Big)^{\\dagger} \\Big( \\displaystyle\\sum_{n} c_n \\ A_n \\Big) V(k) |0\\rangle$$\n",
    "\n",
    "\n",
    "\n",
    "<br>\n",
    "\n",
    "\n",
    "\n",
    "$$\\Rightarrow \\ \\langle \\Phi | \\Phi \\rangle \\ = \\ \\displaystyle\\sum_{m} \\displaystyle\\sum_{n} c_m^{*} c_n \\langle 0 | V(k)^{\\dagger} A_m^{\\dagger} A_n V(k) |0\\rangle$$\n",
    "\n",
    "As explained in the original paper the hadamard test uses an auxiliary qbit that controls the applications of the $A_n$ and $A_m^\\dagger$ operators, in other words:\n",
    "\n",
    "$$\n",
    "A_m |0\\rangle|\\psi(\\alpha) = |0\\rangle|\\psi(\\alpha)\\rangle\n",
    "$$\n",
    "\n",
    "and\n",
    "\n",
    "$$\n",
    "A_m |1\\rangle|\\psi(\\alpha) = |1\\rangle A_m|\\psi(\\alpha)\\rangle\n",
    "$$\n",
    "\n",
    "We therefore need to define these controlled operators for the $A_n$ matrices and their conjugate transpose"
   ]
  },
  {
   "cell_type": "code",
   "execution_count": 12,
   "metadata": {},
   "outputs": [
    {
     "data": {
      "image/png": "[encoded data removed]",
      "text/plain": [
       "<Figure size 146.797x264.88 with 1 Axes>"
      ]
     },
     "execution_count": 12,
     "metadata": {},
     "output_type": "execute_result"
    }
   ],
   "source": [
    "from vqls_redcal_utils import get_controlled_operator_matrix, apply_controlled_gate\n",
    "\n",
    "ctrl_An = get_controlled_operator_matrix(An, 0, [1,2,3])\n",
    "ctrl_An_name = ['$A_0$', '$A_1$']\n",
    "\n",
    "ctrl_An_dagger = get_controlled_operator_matrix([np.conjugate(a).T for a in An], 0, [1,2,3])\n",
    "ctrl_An_dagger_name = ['$A_0^\\dagger$', '$A_1^\\dagger$']\n",
    "\n",
    "circ = QuantumCircuit(4)\n",
    "apply_controlled_gate(circ, ctrl_An[0], 0, [1,2,3], name=ctrl_An_name[0])\n",
    "circ.draw(output='mpl')"
   ]
  },
  {
   "cell_type": "code",
   "execution_count": 13,
   "metadata": {},
   "outputs": [
    {
     "data": {
      "image/png": "[encoded data removed]",
      "text/plain": [
       "<Figure size 688.597x264.88 with 1 Axes>"
      ]
     },
     "execution_count": 13,
     "metadata": {},
     "output_type": "execute_result"
    }
   ],
   "source": [
    "# Creates the Hadamard test\n",
    "from vqls_redcal_utils import hadammard_test\n",
    "circ = QuantumCircuit(4)\n",
    "hadammard_test(circ, [ctrl_An[0], ctrl_An_dagger[1]],  ['cA0', 'cA1'], \n",
    "               [1, 2, 3], 0, [[1, 1, 1], [1, 1, 1], [1, 1, 1]], imag=True)\n",
    "circ.draw(output='mpl')"
   ]
  },
  {
   "cell_type": "markdown",
   "metadata": {},
   "source": [
    "### Computing  $|\\langle b | \\Phi \\rangle|^2$\n",
    "\n",
    "VQLS also relies on the calculation of the term :\n",
    "\n",
    "$$|\\langle b | \\Phi \\rangle|^2 \\ = \\ \\displaystyle\\sum_{m} \\displaystyle\\sum_{n} c_m c_n \\langle 0 | U^{\\dagger} A_n V(k) | 0 \\rangle \\langle 0 | U^{\\dagger} A_m V(k) | 0 \\rangle$$\n",
    "\n",
    "\n",
    "There is a sophisticated way of solving for this value, using a newly-proposed subroutine called the **Hadamard Overlap Test** (see cited paper), but we will just be using a standard Hadamard Test, where we control each matrix. This unfortunately requires the use of an extra auxiliary qubit. We essentially just place a control on each of the gates involved in the auxiliary, the $|b\\rangle$ preparation unitary, and the $A_n$ unitaries. \n",
    "\n",
    "We already have the controlled version of the $A_n$ operators. The circuit of the **controlled** wave function ansatz can be obtained via : \n"
   ]
  },
  {
   "cell_type": "code",
   "execution_count": 14,
   "metadata": {},
   "outputs": [
    {
     "data": {
      "image/png": "[encoded data removed]",
      "text/plain": [
       "<Figure size 507.997x204.68 with 1 Axes>"
      ]
     },
     "execution_count": 14,
     "metadata": {},
     "output_type": "execute_result"
    }
   ],
   "source": [
    "from vqls_redcal_utils import apply_fixed_ansatz\n",
    "circ = QuantumCircuit(3)\n",
    "apply_fixed_ansatz(circ, [0, 1, 2], [[1, 1, 1], [1, 1, 1], [1, 1, 1]])\n",
    "circ.draw(output='mpl')"
   ]
  },
  {
   "cell_type": "code",
   "execution_count": 15,
   "metadata": {},
   "outputs": [
    {
     "data": {
      "image/png": "[encoded data removed]",
      "text/plain": [
       "<Figure size 1377.34x325.08 with 1 Axes>"
      ]
     },
     "execution_count": 15,
     "metadata": {},
     "output_type": "execute_result"
    }
   ],
   "source": [
    "# Creates controlled anstaz for calculating |<b|psi>|^2 with a Hadamard test\n",
    "from vqls_redcal_utils import apply_control_fixed_ansatz\n",
    "q_reg = QuantumRegister(5)\n",
    "circ = QuantumCircuit(q_reg)\n",
    "apply_control_fixed_ansatz(circ, [1, 2, 3], [[1, 1, 1], [1, 1, 1], [1, 1, 1]], 0, q_reg)\n",
    "circ.draw(output='mpl')"
   ]
  },
  {
   "cell_type": "markdown",
   "metadata": {},
   "source": [
    "The circuit that make a controlled application of the right hand side operator is obtained in the same way as the controlled version of the $A_n$ matrices:"
   ]
  },
  {
   "cell_type": "code",
   "execution_count": 16,
   "metadata": {},
   "outputs": [
    {
     "data": {
      "image/png": "[encoded data removed]",
      "text/plain": [
       "<Figure size 146.797x264.88 with 1 Axes>"
      ]
     },
     "execution_count": 16,
     "metadata": {},
     "output_type": "execute_result"
    }
   ],
   "source": [
    "ctrl_Ub_mat = get_controlled_operator_matrix([Ub_mat], 0, [1,2,3])[0].real\n",
    "ctrl_Ub_mat_dagger = get_controlled_operator_matrix([Ub_mat.transpose()], 0, [1,2,3])[0].real\n",
    "\n",
    "circ = QuantumCircuit(4)\n",
    "apply_controlled_gate(circ, ctrl_Ub_mat, 0, [1,2,3], name='$U_b$')\n",
    "circ.draw(output='mpl')"
   ]
  },
  {
   "cell_type": "code",
   "execution_count": 17,
   "metadata": {},
   "outputs": [
    {
     "data": {
      "image/png": "[encoded data removed]",
      "text/plain": [
       "<Figure size 1617.99x325.08 with 1 Axes>"
      ]
     },
     "execution_count": 17,
     "metadata": {},
     "output_type": "execute_result"
    }
   ],
   "source": [
    "from vqls_redcal_utils import special_hadammard_test\n",
    "\n",
    "q_reg = QuantumRegister(5)\n",
    "circ = QuantumCircuit(q_reg)\n",
    "special_hadammard_test(circ, ctrl_An[0], '$A_0$', ctrl_Ub_mat, \n",
    "                       [1, 2, 3], 0, \n",
    "                       [[1, 1, 1], [1, 1, 1], [1, 1, 1]], \n",
    "                       q_reg)\n",
    "circ.draw(output='mpl')"
   ]
  },
  {
   "cell_type": "markdown",
   "metadata": {},
   "source": [
    "### Computing the cost function of the optimization process.\n",
    "\n",
    "We now have to compute the cost function of the VQLS circuit. This is rather convoluted and has been wrapped in the function `calculate_cost_function` that we can use with the `scipy.minimize` method."
   ]
  },
  {
   "cell_type": "code",
   "execution_count": 18,
   "metadata": {},
   "outputs": [
    {
     "name": "stdout",
     "output_type": "stream",
     "text": [
      "[array([2.591, 1.81 , 1.673]), array([0.362, 0.38 , 2.754]), array([1.624, 1.721, 2.644])]\n",
      "(0.9997304242397365+5.341349787043233e-19j)\n",
      "[array([3.591, 1.81 , 1.673]), array([0.362, 0.38 , 2.754]), array([1.624, 1.721, 2.644])]\n",
      "(0.9335870799229351+1.1311627062459197e-16j)\n",
      "[array([3.591, 2.81 , 1.673]), array([0.362, 0.38 , 2.754]), array([1.624, 1.721, 2.644])]\n",
      "(0.979497270954986+2.443582349715648e-16j)\n",
      "[array([3.591, 1.81 , 2.673]), array([0.362, 0.38 , 2.754]), array([1.624, 1.721, 2.644])]\n",
      "(0.974738629178112-3.851731577139598e-16j)\n",
      "[array([3.591, 1.81 , 1.673]), array([1.362, 0.38 , 2.754]), array([1.624, 1.721, 2.644])]\n",
      "(0.8350235373991626+6.830626038612896e-15j)\n",
      "[array([3.591, 1.81 , 1.673]), array([1.362, 1.38 , 2.754]), array([1.624, 1.721, 2.644])]\n",
      "(0.5293669520589022+9.788869672876922e-15j)\n",
      "[array([3.591, 1.81 , 1.673]), array([1.362, 1.38 , 3.754]), array([1.624, 1.721, 2.644])]\n",
      "(0.9957056720794344+2.3864949477341147e-16j)\n",
      "[array([3.591, 1.81 , 1.673]), array([1.362, 1.38 , 2.754]), array([2.624, 1.721, 2.644])]\n",
      "(0.1600850583472575+2.1897462878437288e-15j)\n",
      "[array([3.591, 1.81 , 1.673]), array([1.362, 1.38 , 2.754]), array([2.624, 2.721, 2.644])]\n",
      "(0.21849829898674733-1.4220373283498016e-15j)\n",
      "[array([3.591, 1.81 , 1.673]), array([1.362, 1.38 , 2.754]), array([2.624, 1.721, 3.644])]\n",
      "(0.39814883727715+1.1157096375383665e-14j)\n",
      "[array([3.68226526, 1.74665265, 1.61621867]), array([1.49799898, 1.80174807, 2.11054108]), array([3.13353892, 1.64040082, 2.31551717])]\n",
      "(0.13029481528007336-2.1690144959589706e-15j)\n",
      "[array([3.72224217, 1.71890462, 1.59134675]), array([1.5575706 , 1.98648633, 2.48144758]), array([3.35673219, 1.60509596, 2.17163188])]\n",
      "(0.1444414465984306-3.218992038649585e-15j)\n",
      "[array([3.91010175, 1.74665265, 1.61621867]), array([1.57076756, 1.72897949, 2.11054108]), array([3.13353892, 1.64040082, 2.31551717])]\n",
      "(0.10289153453371169-2.38657259787579e-15j)\n",
      "[array([3.74101881, 1.73406911, 1.60493943]), array([1.94246972, 1.46807018, 2.09912179]), array([3.23475554, 1.62439031, 2.25026618])]\n",
      "(0.10965842110875745-2.2615556127332334e-15j)\n",
      "[array([3.91010175, 1.91351797, 1.43005755]), array([1.57076756, 1.72897949, 2.11054108]), array([3.13353892, 1.64040082, 2.31551717])]\n",
      "(0.1051612903954543-2.686135002633974e-15j)\n",
      "[array([3.92200762, 2.11568852, 1.94833921]), array([1.59489634, 1.74913184, 2.10597708]), array([3.17399267, 1.63400182, 2.28943799])]\n",
      "(0.09565949317818667-3.031476803490007e-15j)\n",
      "[array([3.92200762, 2.11568852, 1.94833921]), array([1.45510219, 1.6093377 , 2.10597708]), array([3.32701291, 1.63400182, 2.28943799])]\n",
      "(0.09260974312925518-2.7713374542090745e-15j)\n",
      "[array([4.1016326 , 2.11987157, 1.97223969]), array([1.38092916, 1.47517203, 2.03711947]), array([3.16962156, 1.53745948, 1.89597866])]\n",
      "(0.0861308047547732-2.8486060938157303e-15j)\n",
      "[array([4.1016326 , 2.11987157, 1.97223969]), array([1.38092916, 1.47517203, 2.03711947]), array([3.16962156, 1.29466154, 1.95555351])]\n",
      "(0.08688948727418477-2.1553424205298104e-15j)\n",
      "[array([4.53049358, 2.12985876, 2.02930292]), array([1.45451095, 1.40551929, 1.87271952]), array([3.2518561 , 1.58152211, 2.02530438])]\n",
      "(0.04659359838504473-3.3873288361514356e-15j)\n",
      "[array([4.78346015, 2.16756387, 2.09645361]), array([1.43943871, 1.15229834, 2.07141268]), array([3.06127425, 1.63716099, 2.21722336])]\n",
      "(0.016314165110434486-2.9586036412825077e-15j)\n",
      "[array([5.13948128, 2.16081762, 2.12799493]), array([1.5281616 , 1.19474323, 2.35096774]), array([3.2425485 , 1.63721594, 2.17818646])]\n",
      "(0.008319621344313743-3.86002908299441e-15j)\n",
      "[array([5.1950623 , 2.16701684, 2.13355159]), array([1.33619195, 1.33213134, 2.3565934 ]), array([3.19268465, 1.64510344, 2.21033203])]\n",
      "(0.009772500270993079-3.510050168190331e-15j)\n",
      "[array([5.47280817, 2.19789587, 2.22818238]), array([1.55556213, 0.96872099, 2.17123697]), array([3.17053826, 1.6997788 , 2.36323048])]\n",
      "(0.04220174615993999-4.5903688002977665e-15j)\n",
      "[array([5.11505306, 1.99614845, 2.31192336]), array([1.52099455, 1.19573492, 2.36033208]), array([3.2369069 , 1.65681763, 2.15814744])]\n",
      "(0.0044432180298482615-2.8871359056835324e-15j)\n",
      "[array([5.09712496, 2.04319803, 2.29224552]), array([1.45857883, 1.10411085, 2.48609537]), array([3.11629634, 1.99973389, 1.86347451])]\n",
      "(0.01274175439835079-3.041145090031146e-15j)\n",
      "[array([5.08460096, 2.17887042, 2.47228977]), array([1.52231349, 1.2072245 , 2.37200562]), array([3.24860833, 1.61985345, 2.13179076])]\n",
      "(0.01041458023265529-3.0474456421486065e-15j)\n",
      "[array([5.12359967, 1.90485291, 2.26381978]), array([1.43755049, 1.05860803, 2.52875146]), array([3.06444973, 1.30488215, 1.9805347 ])]\n",
      "(0.0186981487747081-2.8497140084811935e-15j)\n",
      "[array([5.07477599, 1.99521049, 2.30656419]), array([1.3814154 , 1.06960784, 2.37577193]), array([3.39470945, 1.66029138, 2.17563104])]\n",
      "(0.0051728535890789296-1.9188845262022853e-15j)\n",
      "[array([4.92648861, 1.94471856, 2.29432622]), array([1.58731279, 1.24801275, 2.69278189]), array([3.21126724, 1.7456168 , 2.45019558])]\n",
      "(0.010370558239437111-3.5993185389342195e-15j)\n",
      "[array([5.07128272, 1.91709265, 2.27963346]), array([1.57178261, 1.34091947, 2.3329723 ]), array([3.3867838 , 1.65330754, 2.07808648])]\n",
      "(0.00723282745769116-5.097864537697706e-15j)\n",
      "[array([5.21724199, 1.99665025, 2.32486814]), array([1.54195299, 1.19421592, 2.41601974]), array([3.27509108, 1.66032764, 2.15940158])]\n",
      "(0.006206424853389625-4.561155343532345e-15j)\n",
      "[array([5.1468226 , 1.90617904, 2.33077678]), array([1.54235287, 1.14168139, 2.18231234]), array([3.20658237, 1.721241  , 2.27173358])]\n",
      "(0.004026399934183633-4.462626093353044e-15j)\n",
      "[array([5.14020584, 1.84223141, 2.31666026]), array([1.53044084, 1.10449891, 2.18110869]), array([3.15959507, 1.6370778 , 2.24992736])]\n",
      "(0.004406331106215466-1.6216883800590035e-15j)\n",
      "[array([5.16258291, 1.90997474, 2.32903233]), array([1.53208848, 1.12924394, 2.16260586]), array([3.19855118, 1.74206271, 2.22179386])]\n",
      "(0.004182192696207898-4.6724609501393476e-15j)\n",
      "[array([5.09755726, 1.86304715, 2.31644951]), array([1.54528666, 1.12276355, 2.23644521]), array([3.16351949, 1.7979877 , 2.28127141])]\n",
      "(0.0036806222904555153-4.4863052186881916e-15j)\n",
      "[array([5.11285843, 1.85375366, 2.30832121]), array([1.49857673, 1.15545789, 2.23712182]), array([3.15071531, 1.80208836, 2.29063775])]\n",
      "(0.004015097627392605-4.711448848745771e-15j)\n",
      "[array([5.04222086, 1.89506404, 2.41570093]), array([1.5383942 , 1.11762325, 2.22507483]), array([3.12581908, 1.80064953, 2.28871016])]\n",
      "(0.0018827266839931411-2.3211822374141486e-15j)\n",
      "[array([4.97352166, 1.97014622, 2.4304926 ]), array([1.54490087, 1.09563574, 2.19891326]), array([3.07026365, 1.80569936, 2.31567626])]\n",
      "(0.002408296830684664-2.5805385955324446e-15j)\n",
      "[array([5.04915089, 1.89031894, 2.414959  ]), array([1.57514038, 1.15707084, 2.21964308]), array([3.09730889, 1.79959379, 2.27947358])]\n",
      "(0.0020920198440287363-6.059446302655047e-15j)\n",
      "[array([4.97033206, 1.84773539, 2.47127783]), array([1.53644151, 1.14480855, 2.20489317]), array([3.18412338, 1.80918216, 2.26621889])]\n",
      "(0.0023374192231581103-4.219895121955042e-15j)\n",
      "[array([5.05646804, 1.87217481, 2.42128334]), array([1.54509732, 1.10376179, 2.18307841]), array([3.12039351, 1.81727257, 2.31772143])]\n",
      "(0.002706474913761414-5.0955818095541046e-15j)\n",
      "[array([5.08089765, 1.91137755, 2.49735419]), array([1.54372053, 1.09693977, 2.3065769 ]), array([3.11922809, 1.79886791, 2.28161495])]\n",
      "(0.0015326537574538168-2.3602986684921424e-15j)\n",
      "[array([5.08611712, 1.91052796, 2.50336165]), array([1.49429276, 1.12888017, 2.31154138]), array([3.10207742, 1.80136477, 2.28895503])]\n",
      "(0.001392891702122312-3.605935574953568e-15j)\n",
      "[array([5.07897501, 1.8989227 , 2.50179815]), array([1.49637267, 1.12779401, 2.31896935]), array([3.09773336, 1.77997221, 2.30480537])]\n",
      "(0.0014345016222354623-5.267673857772733e-15j)\n",
      "[array([5.08514585, 1.89298415, 2.50639839]), array([1.48058206, 1.10596515, 2.30320495]), array([3.0742243 , 1.78372062, 2.24749892])]\n",
      "(0.0016781311681810518-2.3200256535328192e-15j)\n",
      "[array([5.0957469 , 1.92281724, 2.51169313]), array([1.49323078, 1.13335044, 2.29749928]), array([3.11100643, 1.78235727, 2.28693368])]\n",
      "(0.0013227973011837868-3.40628163576158e-15j)\n",
      "[array([5.10301538, 1.94991328, 2.48849659]), array([1.48123468, 1.14731811, 2.33318692]), array([3.13756673, 1.77085951, 2.27549314])]\n",
      "(0.0018248711064107193-2.1944777516340872e-15j)\n",
      "[array([5.0968936 , 1.94338731, 2.5044463 ]), array([1.49353357, 1.12387512, 2.29692423]), array([3.09268731, 1.78172399, 2.29550153])]\n",
      "(0.001392853110825376-4.290488300849641e-15j)\n",
      "[array([5.04575862, 1.94034226, 2.54320301]), array([1.49175967, 1.14138175, 2.29318409]), array([3.11409104, 1.78491122, 2.28446424])]\n",
      "(0.0014150882281955823-2.2312645325926843e-15j)\n",
      "[array([5.09414277, 1.92229849, 2.51274   ]), array([1.47624879, 1.11252732, 2.29496071]), array([3.12415453, 1.7849156 , 2.29498177])]\n"
     ]
    },
    {
     "name": "stderr",
     "output_type": "stream",
     "text": [
      "capi_return is NULL\n",
      "Call-back cb_calcfc_in__cobyla__user__routines failed.\n"
     ]
    },
    {
     "ename": "KeyboardInterrupt",
     "evalue": "",
     "output_type": "error",
     "traceback": [
      "\u001b[0;31m---------------------------------------------------------------------------\u001b[0m",
      "\u001b[0;31mKeyboardInterrupt\u001b[0m                         Traceback (most recent call last)",
      "\u001b[1;32m/home/nico/NLESC-quantum/quantum_comp/redcal/vqls/vqls_redcal.ipynb Cell 31\u001b[0m in \u001b[0;36m<cell line: 7>\u001b[0;34m()\u001b[0m\n\u001b[1;32m      <a href='vscode-notebook-cell:/home/nico/NLESC-quantum/quantum_comp/redcal/vqls/vqls_redcal.ipynb#ch0000029?line=3'>4</a>\u001b[0m sum_coefficient \u001b[39m=\u001b[39m np\u001b[39m.\u001b[39msum(coeffs_An)\n\u001b[1;32m      <a href='vscode-notebook-cell:/home/nico/NLESC-quantum/quantum_comp/redcal/vqls/vqls_redcal.ipynb#ch0000029?line=4'>5</a>\u001b[0m coeffs_An \u001b[39m=\u001b[39m [c\u001b[39m/\u001b[39msum_coefficient \u001b[39mfor\u001b[39;00m c \u001b[39min\u001b[39;00m coeffs_An]\n\u001b[0;32m----> <a href='vscode-notebook-cell:/home/nico/NLESC-quantum/quantum_comp/redcal/vqls/vqls_redcal.ipynb#ch0000029?line=6'>7</a>\u001b[0m out \u001b[39m=\u001b[39m minimize(calculate_cost_function, \n\u001b[1;32m      <a href='vscode-notebook-cell:/home/nico/NLESC-quantum/quantum_comp/redcal/vqls/vqls_redcal.ipynb#ch0000029?line=7'>8</a>\u001b[0m                x0\u001b[39m=\u001b[39;49m[\u001b[39mfloat\u001b[39;49m(random\u001b[39m.\u001b[39;49mrandint(\u001b[39m0\u001b[39;49m,\u001b[39m3000\u001b[39;49m))\u001b[39m/\u001b[39;49m\u001b[39m1000\u001b[39;49m \u001b[39mfor\u001b[39;49;00m i \u001b[39min\u001b[39;49;00m \u001b[39mrange\u001b[39;49m(\u001b[39m0\u001b[39;49m, \u001b[39m9\u001b[39;49m)], \n\u001b[1;32m      <a href='vscode-notebook-cell:/home/nico/NLESC-quantum/quantum_comp/redcal/vqls/vqls_redcal.ipynb#ch0000029?line=8'>9</a>\u001b[0m                args \u001b[39m=\u001b[39;49m (ctrl_An, ctrl_An_name,\n\u001b[1;32m     <a href='vscode-notebook-cell:/home/nico/NLESC-quantum/quantum_comp/redcal/vqls/vqls_redcal.ipynb#ch0000029?line=9'>10</a>\u001b[0m                        ctrl_An_dagger, ctrl_An_dagger_name, \n\u001b[1;32m     <a href='vscode-notebook-cell:/home/nico/NLESC-quantum/quantum_comp/redcal/vqls/vqls_redcal.ipynb#ch0000029?line=10'>11</a>\u001b[0m                        coeffs_An, \n\u001b[1;32m     <a href='vscode-notebook-cell:/home/nico/NLESC-quantum/quantum_comp/redcal/vqls/vqls_redcal.ipynb#ch0000029?line=11'>12</a>\u001b[0m                        ctrl_Ub_mat_dagger),\n\u001b[1;32m     <a href='vscode-notebook-cell:/home/nico/NLESC-quantum/quantum_comp/redcal/vqls/vqls_redcal.ipynb#ch0000029?line=12'>13</a>\u001b[0m                method\u001b[39m=\u001b[39;49m\u001b[39m\"\u001b[39;49m\u001b[39mCOBYLA\u001b[39;49m\u001b[39m\"\u001b[39;49m, options\u001b[39m=\u001b[39;49m{\u001b[39m'\u001b[39;49m\u001b[39mmaxiter\u001b[39;49m\u001b[39m'\u001b[39;49m:\u001b[39m200\u001b[39;49m, \u001b[39m'\u001b[39;49m\u001b[39mdisp\u001b[39;49m\u001b[39m'\u001b[39;49m:\u001b[39mFalse\u001b[39;49;00m})\n\u001b[1;32m     <a href='vscode-notebook-cell:/home/nico/NLESC-quantum/quantum_comp/redcal/vqls/vqls_redcal.ipynb#ch0000029?line=13'>14</a>\u001b[0m \u001b[39mprint\u001b[39m(out)\n",
      "File \u001b[0;32m~/miniconda3/envs/qbit/lib/python3.8/site-packages/scipy/optimize/_minimize.py:698\u001b[0m, in \u001b[0;36mminimize\u001b[0;34m(fun, x0, args, method, jac, hess, hessp, bounds, constraints, tol, callback, options)\u001b[0m\n\u001b[1;32m    695\u001b[0m     res \u001b[39m=\u001b[39m _minimize_tnc(fun, x0, args, jac, bounds, callback\u001b[39m=\u001b[39mcallback,\n\u001b[1;32m    696\u001b[0m                         \u001b[39m*\u001b[39m\u001b[39m*\u001b[39moptions)\n\u001b[1;32m    697\u001b[0m \u001b[39melif\u001b[39;00m meth \u001b[39m==\u001b[39m \u001b[39m'\u001b[39m\u001b[39mcobyla\u001b[39m\u001b[39m'\u001b[39m:\n\u001b[0;32m--> 698\u001b[0m     res \u001b[39m=\u001b[39m _minimize_cobyla(fun, x0, args, constraints, callback\u001b[39m=\u001b[39;49mcallback,\n\u001b[1;32m    699\u001b[0m                             \u001b[39m*\u001b[39;49m\u001b[39m*\u001b[39;49moptions)\n\u001b[1;32m    700\u001b[0m \u001b[39melif\u001b[39;00m meth \u001b[39m==\u001b[39m \u001b[39m'\u001b[39m\u001b[39mslsqp\u001b[39m\u001b[39m'\u001b[39m:\n\u001b[1;32m    701\u001b[0m     res \u001b[39m=\u001b[39m _minimize_slsqp(fun, x0, args, jac, bounds,\n\u001b[1;32m    702\u001b[0m                           constraints, callback\u001b[39m=\u001b[39mcallback, \u001b[39m*\u001b[39m\u001b[39m*\u001b[39moptions)\n",
      "File \u001b[0;32m~/miniconda3/envs/qbit/lib/python3.8/site-packages/scipy/optimize/_cobyla_py.py:34\u001b[0m, in \u001b[0;36msynchronized.<locals>.wrapper\u001b[0;34m(*args, **kwargs)\u001b[0m\n\u001b[1;32m     31\u001b[0m \u001b[39m@functools\u001b[39m\u001b[39m.\u001b[39mwraps(func)\n\u001b[1;32m     32\u001b[0m \u001b[39mdef\u001b[39;00m \u001b[39mwrapper\u001b[39m(\u001b[39m*\u001b[39margs, \u001b[39m*\u001b[39m\u001b[39m*\u001b[39mkwargs):\n\u001b[1;32m     33\u001b[0m     \u001b[39mwith\u001b[39;00m _module_lock:\n\u001b[0;32m---> 34\u001b[0m         \u001b[39mreturn\u001b[39;00m func(\u001b[39m*\u001b[39;49margs, \u001b[39m*\u001b[39;49m\u001b[39m*\u001b[39;49mkwargs)\n",
      "File \u001b[0;32m~/miniconda3/envs/qbit/lib/python3.8/site-packages/scipy/optimize/_cobyla_py.py:273\u001b[0m, in \u001b[0;36m_minimize_cobyla\u001b[0;34m(fun, x0, args, constraints, rhobeg, tol, maxiter, disp, catol, callback, **unknown_options)\u001b[0m\n\u001b[1;32m    270\u001b[0m         callback(np\u001b[39m.\u001b[39mcopy(x))\n\u001b[1;32m    272\u001b[0m info \u001b[39m=\u001b[39m np\u001b[39m.\u001b[39mzeros(\u001b[39m4\u001b[39m, np\u001b[39m.\u001b[39mfloat64)\n\u001b[0;32m--> 273\u001b[0m xopt, info \u001b[39m=\u001b[39m cobyla\u001b[39m.\u001b[39;49mminimize(calcfc, m\u001b[39m=\u001b[39;49mm, x\u001b[39m=\u001b[39;49mnp\u001b[39m.\u001b[39;49mcopy(x0), rhobeg\u001b[39m=\u001b[39;49mrhobeg,\n\u001b[1;32m    274\u001b[0m                               rhoend\u001b[39m=\u001b[39;49mrhoend, iprint\u001b[39m=\u001b[39;49miprint, maxfun\u001b[39m=\u001b[39;49mmaxfun,\n\u001b[1;32m    275\u001b[0m                               dinfo\u001b[39m=\u001b[39;49minfo, callback\u001b[39m=\u001b[39;49mwrapped_callback)\n\u001b[1;32m    277\u001b[0m \u001b[39mif\u001b[39;00m info[\u001b[39m3\u001b[39m] \u001b[39m>\u001b[39m catol:\n\u001b[1;32m    278\u001b[0m     \u001b[39m# Check constraint violation\u001b[39;00m\n\u001b[1;32m    279\u001b[0m     info[\u001b[39m0\u001b[39m] \u001b[39m=\u001b[39m \u001b[39m4\u001b[39m\n",
      "File \u001b[0;32m~/miniconda3/envs/qbit/lib/python3.8/site-packages/scipy/optimize/_cobyla_py.py:261\u001b[0m, in \u001b[0;36m_minimize_cobyla.<locals>.calcfc\u001b[0;34m(x, con)\u001b[0m\n\u001b[1;32m    260\u001b[0m \u001b[39mdef\u001b[39;00m \u001b[39mcalcfc\u001b[39m(x, con):\n\u001b[0;32m--> 261\u001b[0m     f \u001b[39m=\u001b[39m fun(np\u001b[39m.\u001b[39;49mcopy(x), \u001b[39m*\u001b[39;49margs)\n\u001b[1;32m    262\u001b[0m     i \u001b[39m=\u001b[39m \u001b[39m0\u001b[39m\n\u001b[1;32m    263\u001b[0m     \u001b[39mfor\u001b[39;00m size, c \u001b[39min\u001b[39;00m izip(cons_lengths, constraints):\n",
      "File \u001b[0;32m~/NLESC-quantum/quantum_comp/redcal/vqls/vqls_redcal_utils.py:228\u001b[0m, in \u001b[0;36mcalculate_cost_function\u001b[0;34m(parameters, *args)\u001b[0m\n\u001b[1;32m    222\u001b[0m     special_hadammard_test(circ, gate_set[j], gate_name[j],\n\u001b[1;32m    223\u001b[0m                             ctrl_ub_mat_dagger, [\u001b[39m1\u001b[39m, \u001b[39m2\u001b[39m, \u001b[39m3\u001b[39m],\n\u001b[1;32m    224\u001b[0m                             \u001b[39m0\u001b[39m, parameters, qctl,\n\u001b[1;32m    225\u001b[0m                             imag\u001b[39m=\u001b[39mimag)\n\u001b[1;32m    227\u001b[0m circ\u001b[39m.\u001b[39msave_statevector()\n\u001b[0;32m--> 228\u001b[0m t_circ \u001b[39m=\u001b[39m transpile(circ, backend)\n\u001b[1;32m    229\u001b[0m qobj \u001b[39m=\u001b[39m assemble(t_circ)\n\u001b[1;32m    230\u001b[0m job \u001b[39m=\u001b[39m backend\u001b[39m.\u001b[39mrun(qobj)\n",
      "File \u001b[0;32m~/miniconda3/envs/qbit/lib/python3.8/site-packages/qiskit/compiler/transpiler.py:341\u001b[0m, in \u001b[0;36mtranspile\u001b[0;34m(circuits, backend, basis_gates, inst_map, coupling_map, backend_properties, initial_layout, layout_method, routing_method, translation_method, scheduling_method, instruction_durations, dt, approximation_degree, timing_constraints, seed_transpiler, optimization_level, callback, output_name, unitary_synthesis_method, unitary_synthesis_plugin_config, target)\u001b[0m\n\u001b[1;32m    338\u001b[0m     \u001b[39mfor\u001b[39;00m circuit, unique_args \u001b[39min\u001b[39;00m \u001b[39mzip\u001b[39m(circuits, unique_transpile_args):\n\u001b[1;32m    339\u001b[0m         transpile_config, pass_manager \u001b[39m=\u001b[39m _combine_args(shared_args, unique_args)\n\u001b[1;32m    340\u001b[0m         output_circuits\u001b[39m.\u001b[39mappend(\n\u001b[0;32m--> 341\u001b[0m             _serial_transpile_circuit(\n\u001b[1;32m    342\u001b[0m                 circuit,\n\u001b[1;32m    343\u001b[0m                 pass_manager,\n\u001b[1;32m    344\u001b[0m                 transpile_config[\u001b[39m\"\u001b[39;49m\u001b[39mcallback\u001b[39;49m\u001b[39m\"\u001b[39;49m],\n\u001b[1;32m    345\u001b[0m                 transpile_config[\u001b[39m\"\u001b[39;49m\u001b[39moutput_name\u001b[39;49m\u001b[39m\"\u001b[39;49m],\n\u001b[1;32m    346\u001b[0m                 transpile_config[\u001b[39m\"\u001b[39;49m\u001b[39mbackend_num_qubits\u001b[39;49m\u001b[39m\"\u001b[39;49m],\n\u001b[1;32m    347\u001b[0m                 transpile_config[\u001b[39m\"\u001b[39;49m\u001b[39mfaulty_qubits_map\u001b[39;49m\u001b[39m\"\u001b[39;49m],\n\u001b[1;32m    348\u001b[0m                 transpile_config[\u001b[39m\"\u001b[39;49m\u001b[39mpass_manager_config\u001b[39;49m\u001b[39m\"\u001b[39;49m]\u001b[39m.\u001b[39;49mbackend_properties,\n\u001b[1;32m    349\u001b[0m             )\n\u001b[1;32m    350\u001b[0m         )\n\u001b[1;32m    351\u001b[0m     circuits \u001b[39m=\u001b[39m output_circuits\n\u001b[1;32m    352\u001b[0m end_time \u001b[39m=\u001b[39m time()\n",
      "File \u001b[0;32m~/miniconda3/envs/qbit/lib/python3.8/site-packages/qiskit/compiler/transpiler.py:434\u001b[0m, in \u001b[0;36m_serial_transpile_circuit\u001b[0;34m(circuit, pass_manager, callback, output_name, num_qubits, faulty_qubits_map, backend_prop)\u001b[0m\n\u001b[1;32m    425\u001b[0m \u001b[39mdef\u001b[39;00m \u001b[39m_serial_transpile_circuit\u001b[39m(\n\u001b[1;32m    426\u001b[0m     circuit,\n\u001b[1;32m    427\u001b[0m     pass_manager,\n\u001b[0;32m   (...)\u001b[0m\n\u001b[1;32m    432\u001b[0m     backend_prop\u001b[39m=\u001b[39m\u001b[39mNone\u001b[39;00m,\n\u001b[1;32m    433\u001b[0m ):\n\u001b[0;32m--> 434\u001b[0m     result \u001b[39m=\u001b[39m pass_manager\u001b[39m.\u001b[39;49mrun(circuit, callback\u001b[39m=\u001b[39;49mcallback, output_name\u001b[39m=\u001b[39;49moutput_name)\n\u001b[1;32m    435\u001b[0m     \u001b[39mif\u001b[39;00m faulty_qubits_map:\n\u001b[1;32m    436\u001b[0m         \u001b[39mreturn\u001b[39;00m _remap_circuit_faulty_backend(\n\u001b[1;32m    437\u001b[0m             result,\n\u001b[1;32m    438\u001b[0m             num_qubits,\n\u001b[1;32m    439\u001b[0m             backend_prop,\n\u001b[1;32m    440\u001b[0m             faulty_qubits_map,\n\u001b[1;32m    441\u001b[0m         )\n",
      "File \u001b[0;32m~/miniconda3/envs/qbit/lib/python3.8/site-packages/qiskit/transpiler/passmanager.py:507\u001b[0m, in \u001b[0;36mStagedPassManager.run\u001b[0;34m(self, circuits, output_name, callback)\u001b[0m\n\u001b[1;32m    500\u001b[0m \u001b[39mdef\u001b[39;00m \u001b[39mrun\u001b[39m(\n\u001b[1;32m    501\u001b[0m     \u001b[39mself\u001b[39m,\n\u001b[1;32m    502\u001b[0m     circuits: Union[QuantumCircuit, List[QuantumCircuit]],\n\u001b[1;32m    503\u001b[0m     output_name: \u001b[39mstr\u001b[39m \u001b[39m=\u001b[39m \u001b[39mNone\u001b[39;00m,\n\u001b[1;32m    504\u001b[0m     callback: Callable \u001b[39m=\u001b[39m \u001b[39mNone\u001b[39;00m,\n\u001b[1;32m    505\u001b[0m ) \u001b[39m-\u001b[39m\u001b[39m>\u001b[39m Union[QuantumCircuit, List[QuantumCircuit]]:\n\u001b[1;32m    506\u001b[0m     \u001b[39mself\u001b[39m\u001b[39m.\u001b[39m_update_passmanager()\n\u001b[0;32m--> 507\u001b[0m     \u001b[39mreturn\u001b[39;00m \u001b[39msuper\u001b[39;49m()\u001b[39m.\u001b[39;49mrun(circuits, output_name, callback)\n",
      "File \u001b[0;32m~/miniconda3/envs/qbit/lib/python3.8/site-packages/qiskit/transpiler/passmanager.py:224\u001b[0m, in \u001b[0;36mPassManager.run\u001b[0;34m(self, circuits, output_name, callback)\u001b[0m\n\u001b[1;32m    222\u001b[0m     \u001b[39mreturn\u001b[39;00m circuits\n\u001b[1;32m    223\u001b[0m \u001b[39mif\u001b[39;00m \u001b[39misinstance\u001b[39m(circuits, QuantumCircuit):\n\u001b[0;32m--> 224\u001b[0m     \u001b[39mreturn\u001b[39;00m \u001b[39mself\u001b[39;49m\u001b[39m.\u001b[39;49m_run_single_circuit(circuits, output_name, callback)\n\u001b[1;32m    225\u001b[0m \u001b[39mif\u001b[39;00m \u001b[39mlen\u001b[39m(circuits) \u001b[39m==\u001b[39m \u001b[39m1\u001b[39m:\n\u001b[1;32m    226\u001b[0m     \u001b[39mreturn\u001b[39;00m \u001b[39mself\u001b[39m\u001b[39m.\u001b[39m_run_single_circuit(circuits[\u001b[39m0\u001b[39m], output_name, callback)\n",
      "File \u001b[0;32m~/miniconda3/envs/qbit/lib/python3.8/site-packages/qiskit/transpiler/passmanager.py:279\u001b[0m, in \u001b[0;36mPassManager._run_single_circuit\u001b[0;34m(self, circuit, output_name, callback)\u001b[0m\n\u001b[1;32m    267\u001b[0m \u001b[39m\"\"\"Run all the passes on a ``circuit``.\u001b[39;00m\n\u001b[1;32m    268\u001b[0m \n\u001b[1;32m    269\u001b[0m \u001b[39mArgs:\u001b[39;00m\n\u001b[0;32m   (...)\u001b[0m\n\u001b[1;32m    276\u001b[0m \u001b[39m    The transformed circuit.\u001b[39;00m\n\u001b[1;32m    277\u001b[0m \u001b[39m\"\"\"\u001b[39;00m\n\u001b[1;32m    278\u001b[0m running_passmanager \u001b[39m=\u001b[39m \u001b[39mself\u001b[39m\u001b[39m.\u001b[39m_create_running_passmanager()\n\u001b[0;32m--> 279\u001b[0m result \u001b[39m=\u001b[39m running_passmanager\u001b[39m.\u001b[39;49mrun(circuit, output_name\u001b[39m=\u001b[39;49moutput_name, callback\u001b[39m=\u001b[39;49mcallback)\n\u001b[1;32m    280\u001b[0m \u001b[39mself\u001b[39m\u001b[39m.\u001b[39mproperty_set \u001b[39m=\u001b[39m running_passmanager\u001b[39m.\u001b[39mproperty_set\n\u001b[1;32m    281\u001b[0m \u001b[39mreturn\u001b[39;00m result\n",
      "File \u001b[0;32m~/miniconda3/envs/qbit/lib/python3.8/site-packages/qiskit/transpiler/runningpassmanager.py:124\u001b[0m, in \u001b[0;36mRunningPassManager.run\u001b[0;34m(***failed resolving arguments***)\u001b[0m\n\u001b[1;32m    122\u001b[0m \u001b[39mfor\u001b[39;00m passset \u001b[39min\u001b[39;00m \u001b[39mself\u001b[39m\u001b[39m.\u001b[39mworking_list:\n\u001b[1;32m    123\u001b[0m     \u001b[39mfor\u001b[39;00m pass_ \u001b[39min\u001b[39;00m passset:\n\u001b[0;32m--> 124\u001b[0m         dag \u001b[39m=\u001b[39m \u001b[39mself\u001b[39;49m\u001b[39m.\u001b[39;49m_do_pass(pass_, dag, passset\u001b[39m.\u001b[39;49moptions)\n\u001b[1;32m    126\u001b[0m circuit \u001b[39m=\u001b[39m dag_to_circuit(dag)\n\u001b[1;32m    127\u001b[0m \u001b[39mif\u001b[39;00m output_name:\n",
      "File \u001b[0;32m~/miniconda3/envs/qbit/lib/python3.8/site-packages/qiskit/transpiler/runningpassmanager.py:167\u001b[0m, in \u001b[0;36mRunningPassManager._do_pass\u001b[0;34m(self, pass_, dag, options)\u001b[0m\n\u001b[1;32m    165\u001b[0m \u001b[39m# Run the pass itself, if not already run\u001b[39;00m\n\u001b[1;32m    166\u001b[0m \u001b[39mif\u001b[39;00m pass_ \u001b[39mnot\u001b[39;00m \u001b[39min\u001b[39;00m \u001b[39mself\u001b[39m\u001b[39m.\u001b[39mvalid_passes:\n\u001b[0;32m--> 167\u001b[0m     dag \u001b[39m=\u001b[39m \u001b[39mself\u001b[39;49m\u001b[39m.\u001b[39;49m_run_this_pass(pass_, dag)\n\u001b[1;32m    169\u001b[0m     \u001b[39m# update the valid_passes property\u001b[39;00m\n\u001b[1;32m    170\u001b[0m     \u001b[39mself\u001b[39m\u001b[39m.\u001b[39m_update_valid_passes(pass_)\n",
      "File \u001b[0;32m~/miniconda3/envs/qbit/lib/python3.8/site-packages/qiskit/transpiler/runningpassmanager.py:196\u001b[0m, in \u001b[0;36mRunningPassManager._run_this_pass\u001b[0;34m(self, pass_, dag)\u001b[0m\n\u001b[1;32m    193\u001b[0m \u001b[39mif\u001b[39;00m pass_\u001b[39m.\u001b[39mis_transformation_pass:\n\u001b[1;32m    194\u001b[0m     \u001b[39m# Measure time if we have a callback or logging set\u001b[39;00m\n\u001b[1;32m    195\u001b[0m     start_time \u001b[39m=\u001b[39m time()\n\u001b[0;32m--> 196\u001b[0m     new_dag \u001b[39m=\u001b[39m pass_\u001b[39m.\u001b[39;49mrun(dag)\n\u001b[1;32m    197\u001b[0m     end_time \u001b[39m=\u001b[39m time()\n\u001b[1;32m    198\u001b[0m     run_time \u001b[39m=\u001b[39m end_time \u001b[39m-\u001b[39m start_time\n",
      "File \u001b[0;32m~/miniconda3/envs/qbit/lib/python3.8/site-packages/qiskit/transpiler/passes/basis/basis_translator.py:192\u001b[0m, in \u001b[0;36mBasisTranslator.run\u001b[0;34m(self, dag)\u001b[0m\n\u001b[1;32m    189\u001b[0m \u001b[39m# Compose found path into a set of instruction substitution rules.\u001b[39;00m\n\u001b[1;32m    191\u001b[0m compose_start_time \u001b[39m=\u001b[39m time\u001b[39m.\u001b[39mtime()\n\u001b[0;32m--> 192\u001b[0m instr_map \u001b[39m=\u001b[39m _compose_transforms(basis_transforms, source_basis, dag)\n\u001b[1;32m    193\u001b[0m extra_instr_map \u001b[39m=\u001b[39m {\n\u001b[1;32m    194\u001b[0m     qarg: _compose_transforms(transforms, qargs_local_source_basis[qarg], dag)\n\u001b[1;32m    195\u001b[0m     \u001b[39mfor\u001b[39;00m qarg, transforms \u001b[39min\u001b[39;00m qarg_local_basis_transforms\u001b[39m.\u001b[39mitems()\n\u001b[1;32m    196\u001b[0m }\n\u001b[1;32m    198\u001b[0m compose_end_time \u001b[39m=\u001b[39m time\u001b[39m.\u001b[39mtime()\n",
      "File \u001b[0;32m~/miniconda3/envs/qbit/lib/python3.8/site-packages/qiskit/transpiler/passes/basis/basis_translator.py:593\u001b[0m, in \u001b[0;36m_compose_transforms\u001b[0;34m(basis_transforms, source_basis, source_dag)\u001b[0m\n\u001b[1;32m    584\u001b[0m     logger\u001b[39m.\u001b[39mdebug(\n\u001b[1;32m    585\u001b[0m         \u001b[39m\"\u001b[39m\u001b[39mUpdating transform for mapped instr \u001b[39m\u001b[39m%s\u001b[39;00m\u001b[39m \u001b[39m\u001b[39m%s\u001b[39;00m\u001b[39m from \u001b[39m\u001b[39m\\n\u001b[39;00m\u001b[39m%s\u001b[39;00m\u001b[39m\"\u001b[39m,\n\u001b[1;32m    586\u001b[0m         mapped_instr_name,\n\u001b[1;32m    587\u001b[0m         dag_params,\n\u001b[1;32m    588\u001b[0m         dag_to_circuit(dag),\n\u001b[1;32m    589\u001b[0m     )\n\u001b[1;32m    591\u001b[0m \u001b[39mfor\u001b[39;00m node \u001b[39min\u001b[39;00m doomed_nodes:\n\u001b[0;32m--> 593\u001b[0m     replacement \u001b[39m=\u001b[39m equiv\u001b[39m.\u001b[39;49massign_parameters(\n\u001b[1;32m    594\u001b[0m         \u001b[39mdict\u001b[39;49m(zip_longest(equiv_params, node\u001b[39m.\u001b[39;49mop\u001b[39m.\u001b[39;49mparams))\n\u001b[1;32m    595\u001b[0m     )\n\u001b[1;32m    597\u001b[0m     replacement_dag \u001b[39m=\u001b[39m circuit_to_dag(replacement)\n\u001b[1;32m    599\u001b[0m     dag\u001b[39m.\u001b[39msubstitute_node_with_dag(node, replacement_dag)\n",
      "File \u001b[0;32m~/miniconda3/envs/qbit/lib/python3.8/site-packages/qiskit/circuit/quantumcircuit.py:2561\u001b[0m, in \u001b[0;36mQuantumCircuit.assign_parameters\u001b[0;34m(self, parameters, inplace)\u001b[0m\n\u001b[1;32m   2559\u001b[0m     bound_circuit \u001b[39m=\u001b[39m \u001b[39mself\u001b[39m\n\u001b[1;32m   2560\u001b[0m \u001b[39melse\u001b[39;00m:\n\u001b[0;32m-> 2561\u001b[0m     bound_circuit \u001b[39m=\u001b[39m \u001b[39mself\u001b[39;49m\u001b[39m.\u001b[39;49mcopy()\n\u001b[1;32m   2562\u001b[0m     \u001b[39mself\u001b[39m\u001b[39m.\u001b[39m_increment_instances()\n\u001b[1;32m   2563\u001b[0m     bound_circuit\u001b[39m.\u001b[39m_name_update()\n",
      "File \u001b[0;32m~/miniconda3/envs/qbit/lib/python3.8/site-packages/qiskit/circuit/quantumcircuit.py:2169\u001b[0m, in \u001b[0;36mQuantumCircuit.copy\u001b[0;34m(self, name)\u001b[0m\n\u001b[1;32m   2159\u001b[0m \u001b[39m\"\"\"Copy the circuit.\u001b[39;00m\n\u001b[1;32m   2160\u001b[0m \n\u001b[1;32m   2161\u001b[0m \u001b[39mArgs:\u001b[39;00m\n\u001b[0;32m   (...)\u001b[0m\n\u001b[1;32m   2165\u001b[0m \u001b[39m  QuantumCircuit: a deepcopy of the current circuit, with the specified name\u001b[39;00m\n\u001b[1;32m   2166\u001b[0m \u001b[39m\"\"\"\u001b[39;00m\n\u001b[1;32m   2167\u001b[0m cpy \u001b[39m=\u001b[39m \u001b[39mself\u001b[39m\u001b[39m.\u001b[39mcopy_empty_like(name)\n\u001b[0;32m-> 2169\u001b[0m operation_copies \u001b[39m=\u001b[39m {\n\u001b[1;32m   2170\u001b[0m     \u001b[39mid\u001b[39m(instruction\u001b[39m.\u001b[39moperation): instruction\u001b[39m.\u001b[39moperation\u001b[39m.\u001b[39mcopy() \u001b[39mfor\u001b[39;00m instruction \u001b[39min\u001b[39;00m \u001b[39mself\u001b[39m\u001b[39m.\u001b[39m_data\n\u001b[1;32m   2171\u001b[0m }\n\u001b[1;32m   2173\u001b[0m cpy\u001b[39m.\u001b[39m_parameter_table \u001b[39m=\u001b[39m ParameterTable(\n\u001b[1;32m   2174\u001b[0m     {\n\u001b[1;32m   2175\u001b[0m         param: ParameterReferences(\n\u001b[0;32m   (...)\u001b[0m\n\u001b[1;32m   2180\u001b[0m     }\n\u001b[1;32m   2181\u001b[0m )\n\u001b[1;32m   2183\u001b[0m cpy\u001b[39m.\u001b[39m_data \u001b[39m=\u001b[39m [\n\u001b[1;32m   2184\u001b[0m     instruction\u001b[39m.\u001b[39mreplace(operation\u001b[39m=\u001b[39moperation_copies[\u001b[39mid\u001b[39m(instruction\u001b[39m.\u001b[39moperation)])\n\u001b[1;32m   2185\u001b[0m     \u001b[39mfor\u001b[39;00m instruction \u001b[39min\u001b[39;00m \u001b[39mself\u001b[39m\u001b[39m.\u001b[39m_data\n\u001b[1;32m   2186\u001b[0m ]\n",
      "File \u001b[0;32m~/miniconda3/envs/qbit/lib/python3.8/site-packages/qiskit/circuit/quantumcircuit.py:2170\u001b[0m, in \u001b[0;36m<dictcomp>\u001b[0;34m(.0)\u001b[0m\n\u001b[1;32m   2159\u001b[0m \u001b[39m\"\"\"Copy the circuit.\u001b[39;00m\n\u001b[1;32m   2160\u001b[0m \n\u001b[1;32m   2161\u001b[0m \u001b[39mArgs:\u001b[39;00m\n\u001b[0;32m   (...)\u001b[0m\n\u001b[1;32m   2165\u001b[0m \u001b[39m  QuantumCircuit: a deepcopy of the current circuit, with the specified name\u001b[39;00m\n\u001b[1;32m   2166\u001b[0m \u001b[39m\"\"\"\u001b[39;00m\n\u001b[1;32m   2167\u001b[0m cpy \u001b[39m=\u001b[39m \u001b[39mself\u001b[39m\u001b[39m.\u001b[39mcopy_empty_like(name)\n\u001b[1;32m   2169\u001b[0m operation_copies \u001b[39m=\u001b[39m {\n\u001b[0;32m-> 2170\u001b[0m     \u001b[39mid\u001b[39m(instruction\u001b[39m.\u001b[39moperation): instruction\u001b[39m.\u001b[39;49moperation\u001b[39m.\u001b[39;49mcopy() \u001b[39mfor\u001b[39;00m instruction \u001b[39min\u001b[39;00m \u001b[39mself\u001b[39m\u001b[39m.\u001b[39m_data\n\u001b[1;32m   2171\u001b[0m }\n\u001b[1;32m   2173\u001b[0m cpy\u001b[39m.\u001b[39m_parameter_table \u001b[39m=\u001b[39m ParameterTable(\n\u001b[1;32m   2174\u001b[0m     {\n\u001b[1;32m   2175\u001b[0m         param: ParameterReferences(\n\u001b[0;32m   (...)\u001b[0m\n\u001b[1;32m   2180\u001b[0m     }\n\u001b[1;32m   2181\u001b[0m )\n\u001b[1;32m   2183\u001b[0m cpy\u001b[39m.\u001b[39m_data \u001b[39m=\u001b[39m [\n\u001b[1;32m   2184\u001b[0m     instruction\u001b[39m.\u001b[39mreplace(operation\u001b[39m=\u001b[39moperation_copies[\u001b[39mid\u001b[39m(instruction\u001b[39m.\u001b[39moperation)])\n\u001b[1;32m   2185\u001b[0m     \u001b[39mfor\u001b[39;00m instruction \u001b[39min\u001b[39;00m \u001b[39mself\u001b[39m\u001b[39m.\u001b[39m_data\n\u001b[1;32m   2186\u001b[0m ]\n",
      "File \u001b[0;32m~/miniconda3/envs/qbit/lib/python3.8/site-packages/qiskit/circuit/instruction.py:423\u001b[0m, in \u001b[0;36mInstruction.copy\u001b[0;34m(self, name)\u001b[0m\n\u001b[1;32m    411\u001b[0m \u001b[39mdef\u001b[39;00m \u001b[39mcopy\u001b[39m(\u001b[39mself\u001b[39m, name\u001b[39m=\u001b[39m\u001b[39mNone\u001b[39;00m):\n\u001b[1;32m    412\u001b[0m     \u001b[39m\"\"\"\u001b[39;00m\n\u001b[1;32m    413\u001b[0m \u001b[39m    Copy of the instruction.\u001b[39;00m\n\u001b[1;32m    414\u001b[0m \n\u001b[0;32m   (...)\u001b[0m\n\u001b[1;32m    421\u001b[0m \u001b[39m        updated if it was provided\u001b[39;00m\n\u001b[1;32m    422\u001b[0m \u001b[39m    \"\"\"\u001b[39;00m\n\u001b[0;32m--> 423\u001b[0m     cpy \u001b[39m=\u001b[39m \u001b[39mself\u001b[39;49m\u001b[39m.\u001b[39;49m__deepcopy__()\n\u001b[1;32m    425\u001b[0m     \u001b[39mif\u001b[39;00m name:\n\u001b[1;32m    426\u001b[0m         cpy\u001b[39m.\u001b[39mname \u001b[39m=\u001b[39m name\n",
      "File \u001b[0;32m~/miniconda3/envs/qbit/lib/python3.8/site-packages/qiskit/circuit/instruction.py:430\u001b[0m, in \u001b[0;36mInstruction.__deepcopy__\u001b[0;34m(self, _memo)\u001b[0m\n\u001b[1;32m    429\u001b[0m \u001b[39mdef\u001b[39;00m \u001b[39m__deepcopy__\u001b[39m(\u001b[39mself\u001b[39m, _memo\u001b[39m=\u001b[39m\u001b[39mNone\u001b[39;00m):\n\u001b[0;32m--> 430\u001b[0m     cpy \u001b[39m=\u001b[39m copy\u001b[39m.\u001b[39;49mcopy(\u001b[39mself\u001b[39;49m)\n\u001b[1;32m    431\u001b[0m     cpy\u001b[39m.\u001b[39m_params \u001b[39m=\u001b[39m copy\u001b[39m.\u001b[39mcopy(\u001b[39mself\u001b[39m\u001b[39m.\u001b[39m_params)\n\u001b[1;32m    432\u001b[0m     \u001b[39mif\u001b[39;00m \u001b[39mself\u001b[39m\u001b[39m.\u001b[39m_definition:\n",
      "File \u001b[0;32m~/miniconda3/envs/qbit/lib/python3.8/copy.py:92\u001b[0m, in \u001b[0;36mcopy\u001b[0;34m(x)\u001b[0m\n\u001b[1;32m     90\u001b[0m reductor \u001b[39m=\u001b[39m \u001b[39mgetattr\u001b[39m(x, \u001b[39m\"\u001b[39m\u001b[39m__reduce_ex__\u001b[39m\u001b[39m\"\u001b[39m, \u001b[39mNone\u001b[39;00m)\n\u001b[1;32m     91\u001b[0m \u001b[39mif\u001b[39;00m reductor \u001b[39mis\u001b[39;00m \u001b[39mnot\u001b[39;00m \u001b[39mNone\u001b[39;00m:\n\u001b[0;32m---> 92\u001b[0m     rv \u001b[39m=\u001b[39m reductor(\u001b[39m4\u001b[39;49m)\n\u001b[1;32m     93\u001b[0m \u001b[39melse\u001b[39;00m:\n\u001b[1;32m     94\u001b[0m     reductor \u001b[39m=\u001b[39m \u001b[39mgetattr\u001b[39m(x, \u001b[39m\"\u001b[39m\u001b[39m__reduce__\u001b[39m\u001b[39m\"\u001b[39m, \u001b[39mNone\u001b[39;00m)\n",
      "\u001b[0;31mKeyboardInterrupt\u001b[0m: "
     ]
    }
   ],
   "source": [
    "from vqls_redcal_utils import calculate_cost_function\n",
    "\n",
    "\n",
    "sum_coefficient = np.sum(coeffs_An)\n",
    "coeffs_An = [c/sum_coefficient for c in coeffs_An]\n",
    "\n",
    "out = minimize(calculate_cost_function, \n",
    "               x0=[float(random.randint(0,3000))/1000 for i in range(0, 9)], \n",
    "               args = (ctrl_An, ctrl_An_name,\n",
    "                       ctrl_An_dagger, ctrl_An_dagger_name, \n",
    "                       coeffs_An, \n",
    "                       ctrl_Ub_mat_dagger),\n",
    "               method=\"COBYLA\", options={'maxiter':200, 'disp':False})\n",
    "print(out)\n"
   ]
  },
  {
   "cell_type": "markdown",
   "metadata": {},
   "source": [
    "### Checking the solution\n",
    "\n",
    "We can now check if the solution is any good. We first get the state vector of the optimized circuit"
   ]
  },
  {
   "cell_type": "code",
   "execution_count": null,
   "metadata": {},
   "outputs": [],
   "source": [
    "out_f = [out['x'][0:3], out['x'][3:6], out['x'][6:9]]\n",
    "\n",
    "circ = QuantumCircuit(3, 3)\n",
    "apply_fixed_ansatz(circ, [0, 1, 2], out_f)\n",
    "circ.save_statevector()\n",
    "\n",
    "backend = Aer.get_backend('aer_simulator')\n",
    "t_circ = transpile(circ, backend)\n",
    "qobj = assemble(t_circ)\n",
    "job = backend.run(qobj)\n",
    "\n",
    "result = job.result()\n",
    "o = result.get_statevector(circ, decimals=10)\n",
    "o = np.array(o)"
   ]
  },
  {
   "cell_type": "markdown",
   "metadata": {},
   "source": [
    "Then compute some metrics"
   ]
  },
  {
   "cell_type": "code",
   "execution_count": null,
   "metadata": {},
   "outputs": [
    {
     "name": "stdout",
     "output_type": "stream",
     "text": [
      "residue: 2.282678846898107\n",
      "rms: (0.865931556640841+0j)\n"
     ]
    },
    {
     "data": {
      "text/plain": [
       "[<matplotlib.lines.Line2D at 0x7f57c465a1f0>]"
      ]
     },
     "execution_count": 27,
     "metadata": {},
     "output_type": "execute_result"
    },
    {
     "data": {
      "image/png": "[encoded data removed]",
      "text/plain": [
       "<Figure size 432x288 with 1 Axes>"
      ]
     },
     "metadata": {
      "needs_background": "light"
     },
     "output_type": "display_data"
    }
   ],
   "source": [
    "Atmp = unitary_recomposition(coeffs_An, An).real\n",
    "rhs = btilde/np.linalg.norm(btilde)\n",
    "\n",
    "x = np.linalg.solve(Atmp,rhs)\n",
    "norm_x = np.linalg.norm(x)\n",
    "x /= norm_x\n",
    "x = np.asarray(x).flatten().real\n",
    "\n",
    "res = np.linalg.norm(Atmp @ o-rhs)\n",
    "print('residue:', res)\n",
    "\n",
    "print('rms:', np.sqrt(np.sum( (o-x)**2 )) )\n",
    "import matplotlib.pyplot as plt\n",
    "plt.scatter(x,o.real)\n",
    "plt.plot([-1,1],[-1,1],'--')"
   ]
  },
  {
   "cell_type": "markdown",
   "metadata": {},
   "source": [
    "### Sample the output of the circuit\n",
    "\n",
    "Now, we have found that this algorithm works **in theory**. I tried to run some simulations with a circuit that samples the circuit instead of calculating the probabilities numerically. Now, let's try to **sample** the quantum circuit, as a real quantum computer would do! For some reason, this simulation would only converge somewhat well for a ridiculously high number of \"shots\" (runs of the circuit, in order to calculate the probability distribution of outcomes). I think that this is mostly to do with limitations in the classical optimizer (COBYLA), due to the noisy nature of sampling a quantum circuit (a measurement with the same parameters won't always yield the same outcome). Luckily, there are other optimizers that are built for noisy functions, such as SPSA, but we won't be looking into that in this tutorial. Let's try our sampling for our second value of $A$, with the same matrix $U$:"
   ]
  },
  {
   "cell_type": "code",
   "execution_count": null,
   "metadata": {},
   "outputs": [],
   "source": [
    "from vqls_redcal_utils import sample_cost_function\n",
    "\n",
    "sum_coefficient = np.sum(coeffs_An)\n",
    "coeffs_An = [c/sum_coefficient for c in coeffs_An]\n",
    "\n",
    "out = minimize(sample_cost_function, \n",
    "               x0=[float(random.randint(0,3000))/1000 for i in range(0, 9)], \n",
    "               args = (ctrl_An, ctrl_An_name,\n",
    "                       ctrl_An_dagger, ctrl_An_dagger_name, \n",
    "                       coeffs_An, \n",
    "                       ctrl_Ub_mat_dagger),\n",
    "               method=\"COBYLA\", options={'maxiter':200, 'disp':True})\n",
    "print(out)"
   ]
  },
  {
   "cell_type": "markdown",
   "metadata": {},
   "source": [
    "\n",
    "\n",
    "## 4. Acknowledgements\n",
    "\n",
    "This implementation is based on the work presented in the research paper \"Variational Quantum Linear Solver: A Hybrid Algorithm for Linear Systems\", written by Carlos Bravo-Prieto, Ryan LaRose, M. Cerezo, Yiğit Subaşı, Lukasz Cincio, and Patrick J. Coles, which is available at [this](https://arxiv.org/abs/1909.05820) link.\n",
    "\n",
    "Special thanks to Carlos Bravo-Prieto for personally helping me out, by answering some of my questions concerning the paper!"
   ]
  },
  {
   "cell_type": "code",
   "execution_count": null,
   "metadata": {},
   "outputs": [],
   "source": [
    "import qiskit.tools.jupyter\n",
    "%qiskit_version_table"
   ]
  }
 ],
 "metadata": {
  "kernelspec": {
   "display_name": "Python 3.8.0 ('qbit')",
   "language": "python",
   "name": "python3"
  },
  "language_info": {
   "codemirror_mode": {
    "name": "ipython",
    "version": 3
   },
   "file_extension": ".py",
   "mimetype": "text/x-python",
   "name": "python",
   "nbconvert_exporter": "python",
   "pygments_lexer": "ipython3",
   "version": "3.8.0"
  },
  "vscode": {
   "interpreter": {
    "hash": "f81e22f3c5b27774d4d4eae4ad3fec9b1134f1b5351aec3d2575b34f8e4248d2"
   }
  },
  "widgets": {
   "application/vnd.jupyter.widget-state+json": {
    "state": {
     "17046f96803d48aa8c63b99a5c89e6f3": {
      "model_module": "@jupyter-widgets/controls",
      "model_module_version": "1.5.0",
      "model_name": "DescriptionStyleModel",
      "state": {
       "_model_module": "@jupyter-widgets/controls",
       "_model_module_version": "1.5.0",
       "_model_name": "DescriptionStyleModel",
       "_view_count": null,
       "_view_module": "@jupyter-widgets/base",
       "_view_module_version": "1.2.0",
       "_view_name": "StyleView",
       "description_width": ""
      }
     },
     "1a46e33438a648dd839fe5fd43b9582b": {
      "model_module": "@jupyter-widgets/controls",
      "model_module_version": "1.5.0",
      "model_name": "DescriptionStyleModel",
      "state": {
       "_model_module": "@jupyter-widgets/controls",
       "_model_module_version": "1.5.0",
       "_model_name": "DescriptionStyleModel",
       "_view_count": null,
       "_view_module": "@jupyter-widgets/base",
       "_view_module_version": "1.2.0",
       "_view_name": "StyleView",
       "description_width": ""
      }
     },
     "1f812fe9a02b41b885f01e3190957acf": {
      "model_module": "@jupyter-widgets/base",
      "model_module_version": "1.2.0",
      "model_name": "LayoutModel",
      "state": {
       "_model_module": "@jupyter-widgets/base",
       "_model_module_version": "1.2.0",
       "_model_name": "LayoutModel",
       "_view_count": null,
       "_view_module": "@jupyter-widgets/base",
       "_view_module_version": "1.2.0",
       "_view_name": "LayoutView",
       "align_content": null,
       "align_items": null,
       "align_self": null,
       "border": null,
       "bottom": null,
       "display": null,
       "flex": null,
       "flex_flow": null,
       "grid_area": null,
       "grid_auto_columns": null,
       "grid_auto_flow": null,
       "grid_auto_rows": null,
       "grid_column": null,
       "grid_gap": null,
       "grid_row": null,
       "grid_template_areas": "\n                                       \". . . . right \"\n                                        ",
       "grid_template_columns": "20% 20% 20% 20% 20%",
       "grid_template_rows": null,
       "height": null,
       "justify_content": null,
       "justify_items": null,
       "left": null,
       "margin": null,
       "max_height": null,
       "max_width": null,
       "min_height": null,
       "min_width": null,
       "object_fit": null,
       "object_position": null,
       "order": null,
       "overflow": null,
       "overflow_x": null,
       "overflow_y": null,
       "padding": null,
       "right": null,
       "top": null,
       "visibility": null,
       "width": "100%"
      }
     },
     "20439ee3a84741dc9a137f7964898fc3": {
      "model_module": "@jupyter-widgets/controls",
      "model_module_version": "1.5.0",
      "model_name": "HTMLModel",
      "state": {
       "_dom_classes": [],
       "_model_module": "@jupyter-widgets/controls",
       "_model_module_version": "1.5.0",
       "_model_name": "HTMLModel",
       "_view_count": null,
       "_view_module": "@jupyter-widgets/controls",
       "_view_module_version": "1.5.0",
       "_view_name": "HTMLView",
       "description": "",
       "description_tooltip": null,
       "layout": "IPY_MODEL_f0e6a746eff140269e915ef65de640c7",
       "placeholder": "​",
       "style": "IPY_MODEL_96316857896d44328b3898d849594ae7",
       "value": "<h5>Status</h5>"
      }
     },
     "246d39f98fdb4892bc1d5bfb88d2f1cd": {
      "model_module": "@jupyter-widgets/controls",
      "model_module_version": "1.5.0",
      "model_name": "DescriptionStyleModel",
      "state": {
       "_model_module": "@jupyter-widgets/controls",
       "_model_module_version": "1.5.0",
       "_model_name": "DescriptionStyleModel",
       "_view_count": null,
       "_view_module": "@jupyter-widgets/base",
       "_view_module_version": "1.2.0",
       "_view_name": "StyleView",
       "description_width": ""
      }
     },
     "27e0478b2a9c4533b2e67eac937cbebc": {
      "model_module": "@jupyter-widgets/controls",
      "model_module_version": "1.5.0",
      "model_name": "HBoxModel",
      "state": {
       "_dom_classes": [],
       "_model_module": "@jupyter-widgets/controls",
       "_model_module_version": "1.5.0",
       "_model_name": "HBoxModel",
       "_view_count": null,
       "_view_module": "@jupyter-widgets/controls",
       "_view_module_version": "1.5.0",
       "_view_name": "HBoxView",
       "box_style": "",
       "children": [
        "IPY_MODEL_ac5a0f78ef8140a2abdf035fd1751936",
        "IPY_MODEL_5ff6f36eaa894a339210fc29fdbeedcf",
        "IPY_MODEL_20439ee3a84741dc9a137f7964898fc3",
        "IPY_MODEL_eef64edafd8f47c885da65fa3ca0ab8a",
        "IPY_MODEL_a38db3ffdfc848c0b0150e42b3509be5"
       ],
       "layout": "IPY_MODEL_fc018f99fbb44aa9beb54a8e6be5209e"
      }
     },
     "2f981df37e914685992f4564103ef872": {
      "model_module": "@jupyter-widgets/base",
      "model_module_version": "1.2.0",
      "model_name": "LayoutModel",
      "state": {
       "_model_module": "@jupyter-widgets/base",
       "_model_module_version": "1.2.0",
       "_model_name": "LayoutModel",
       "_view_count": null,
       "_view_module": "@jupyter-widgets/base",
       "_view_module_version": "1.2.0",
       "_view_name": "LayoutView",
       "align_content": null,
       "align_items": null,
       "align_self": null,
       "border": null,
       "bottom": null,
       "display": null,
       "flex": null,
       "flex_flow": null,
       "grid_area": null,
       "grid_auto_columns": null,
       "grid_auto_flow": null,
       "grid_auto_rows": null,
       "grid_column": null,
       "grid_gap": null,
       "grid_row": null,
       "grid_template_areas": null,
       "grid_template_columns": null,
       "grid_template_rows": null,
       "height": null,
       "justify_content": null,
       "justify_items": null,
       "left": null,
       "margin": null,
       "max_height": null,
       "max_width": null,
       "min_height": null,
       "min_width": null,
       "object_fit": null,
       "object_position": null,
       "order": null,
       "overflow": null,
       "overflow_x": null,
       "overflow_y": null,
       "padding": null,
       "right": null,
       "top": null,
       "visibility": null,
       "width": null
      }
     },
     "3aa67247d1a9433f87b13ce1370c8b1c": {
      "model_module": "@jupyter-widgets/base",
      "model_module_version": "1.2.0",
      "model_name": "LayoutModel",
      "state": {
       "_model_module": "@jupyter-widgets/base",
       "_model_module_version": "1.2.0",
       "_model_name": "LayoutModel",
       "_view_count": null,
       "_view_module": "@jupyter-widgets/base",
       "_view_module_version": "1.2.0",
       "_view_name": "LayoutView",
       "align_content": null,
       "align_items": null,
       "align_self": null,
       "border": null,
       "bottom": null,
       "display": null,
       "flex": null,
       "flex_flow": null,
       "grid_area": null,
       "grid_auto_columns": null,
       "grid_auto_flow": null,
       "grid_auto_rows": null,
       "grid_column": null,
       "grid_gap": null,
       "grid_row": null,
       "grid_template_areas": null,
       "grid_template_columns": null,
       "grid_template_rows": null,
       "height": null,
       "justify_content": null,
       "justify_items": null,
       "left": null,
       "margin": null,
       "max_height": null,
       "max_width": null,
       "min_height": null,
       "min_width": null,
       "object_fit": null,
       "object_position": null,
       "order": null,
       "overflow": null,
       "overflow_x": null,
       "overflow_y": null,
       "padding": null,
       "right": null,
       "top": null,
       "visibility": null,
       "width": "190px"
      }
     },
     "40a8f99fef5b4aad89f533edcb091c3f": {
      "model_module": "@jupyter-widgets/controls",
      "model_module_version": "1.5.0",
      "model_name": "ButtonStyleModel",
      "state": {
       "_model_module": "@jupyter-widgets/controls",
       "_model_module_version": "1.5.0",
       "_model_name": "ButtonStyleModel",
       "_view_count": null,
       "_view_module": "@jupyter-widgets/base",
       "_view_module_version": "1.2.0",
       "_view_name": "StyleView",
       "button_color": null,
       "font_weight": ""
      }
     },
     "46f75da5f7ab4f33b4df8618ccffde6b": {
      "model_module": "@jupyter-widgets/controls",
      "model_module_version": "1.5.0",
      "model_name": "DescriptionStyleModel",
      "state": {
       "_model_module": "@jupyter-widgets/controls",
       "_model_module_version": "1.5.0",
       "_model_name": "DescriptionStyleModel",
       "_view_count": null,
       "_view_module": "@jupyter-widgets/base",
       "_view_module_version": "1.2.0",
       "_view_name": "StyleView",
       "description_width": ""
      }
     },
     "5ff6f36eaa894a339210fc29fdbeedcf": {
      "model_module": "@jupyter-widgets/controls",
      "model_module_version": "1.5.0",
      "model_name": "HTMLModel",
      "state": {
       "_dom_classes": [],
       "_model_module": "@jupyter-widgets/controls",
       "_model_module_version": "1.5.0",
       "_model_name": "HTMLModel",
       "_view_count": null,
       "_view_module": "@jupyter-widgets/controls",
       "_view_module_version": "1.5.0",
       "_view_name": "HTMLView",
       "description": "",
       "description_tooltip": null,
       "layout": "IPY_MODEL_9e036ff6f31e4efb9471d371db06f533",
       "placeholder": "​",
       "style": "IPY_MODEL_1a46e33438a648dd839fe5fd43b9582b",
       "value": "<h5>Backend</h5>"
      }
     },
     "608e06da96f840e890006ad286afc34b": {
      "model_module": "@jupyter-widgets/controls",
      "model_module_version": "1.5.0",
      "model_name": "HTMLModel",
      "state": {
       "_dom_classes": [],
       "_model_module": "@jupyter-widgets/controls",
       "_model_module_version": "1.5.0",
       "_model_name": "HTMLModel",
       "_view_count": null,
       "_view_module": "@jupyter-widgets/controls",
       "_view_module_version": "1.5.0",
       "_view_name": "HTMLView",
       "description": "",
       "description_tooltip": null,
       "layout": "IPY_MODEL_74038cd5fbe8491ba5457f6cc81f7b5a",
       "placeholder": "​",
       "style": "IPY_MODEL_8569084253df4279b752a85c0b99027b",
       "value": "<p style='font-family: IBM Plex Sans, Arial, Helvetica, sans-serif; font-size: 20px; font-weight: medium;'>Circuit Properties</p>"
      }
     },
     "74038cd5fbe8491ba5457f6cc81f7b5a": {
      "model_module": "@jupyter-widgets/base",
      "model_module_version": "1.2.0",
      "model_name": "LayoutModel",
      "state": {
       "_model_module": "@jupyter-widgets/base",
       "_model_module_version": "1.2.0",
       "_model_name": "LayoutModel",
       "_view_count": null,
       "_view_module": "@jupyter-widgets/base",
       "_view_module_version": "1.2.0",
       "_view_name": "LayoutView",
       "align_content": null,
       "align_items": null,
       "align_self": null,
       "border": null,
       "bottom": null,
       "display": null,
       "flex": null,
       "flex_flow": null,
       "grid_area": null,
       "grid_auto_columns": null,
       "grid_auto_flow": null,
       "grid_auto_rows": null,
       "grid_column": null,
       "grid_gap": null,
       "grid_row": null,
       "grid_template_areas": null,
       "grid_template_columns": null,
       "grid_template_rows": null,
       "height": null,
       "justify_content": null,
       "justify_items": null,
       "left": null,
       "margin": "0px 0px 10px 0px",
       "max_height": null,
       "max_width": null,
       "min_height": null,
       "min_width": null,
       "object_fit": null,
       "object_position": null,
       "order": null,
       "overflow": null,
       "overflow_x": null,
       "overflow_y": null,
       "padding": null,
       "right": null,
       "top": null,
       "visibility": null,
       "width": null
      }
     },
     "8569084253df4279b752a85c0b99027b": {
      "model_module": "@jupyter-widgets/controls",
      "model_module_version": "1.5.0",
      "model_name": "DescriptionStyleModel",
      "state": {
       "_model_module": "@jupyter-widgets/controls",
       "_model_module_version": "1.5.0",
       "_model_name": "DescriptionStyleModel",
       "_view_count": null,
       "_view_module": "@jupyter-widgets/base",
       "_view_module_version": "1.2.0",
       "_view_name": "StyleView",
       "description_width": ""
      }
     },
     "917c693fd8d84f2e99f59d75cd5062c2": {
      "model_module": "@jupyter-widgets/controls",
      "model_module_version": "1.5.0",
      "model_name": "GridBoxModel",
      "state": {
       "_dom_classes": [],
       "_model_module": "@jupyter-widgets/controls",
       "_model_module_version": "1.5.0",
       "_model_name": "GridBoxModel",
       "_view_count": null,
       "_view_module": "@jupyter-widgets/controls",
       "_view_module_version": "1.5.0",
       "_view_name": "GridBoxView",
       "box_style": "",
       "children": [
        "IPY_MODEL_b7e87c3bbc404502ab1550d64f86c473"
       ],
       "layout": "IPY_MODEL_1f812fe9a02b41b885f01e3190957acf"
      }
     },
     "96316857896d44328b3898d849594ae7": {
      "model_module": "@jupyter-widgets/controls",
      "model_module_version": "1.5.0",
      "model_name": "DescriptionStyleModel",
      "state": {
       "_model_module": "@jupyter-widgets/controls",
       "_model_module_version": "1.5.0",
       "_model_name": "DescriptionStyleModel",
       "_view_count": null,
       "_view_module": "@jupyter-widgets/base",
       "_view_module_version": "1.2.0",
       "_view_name": "StyleView",
       "description_width": ""
      }
     },
     "9e036ff6f31e4efb9471d371db06f533": {
      "model_module": "@jupyter-widgets/base",
      "model_module_version": "1.2.0",
      "model_name": "LayoutModel",
      "state": {
       "_model_module": "@jupyter-widgets/base",
       "_model_module_version": "1.2.0",
       "_model_name": "LayoutModel",
       "_view_count": null,
       "_view_module": "@jupyter-widgets/base",
       "_view_module_version": "1.2.0",
       "_view_name": "LayoutView",
       "align_content": null,
       "align_items": null,
       "align_self": null,
       "border": null,
       "bottom": null,
       "display": null,
       "flex": null,
       "flex_flow": null,
       "grid_area": null,
       "grid_auto_columns": null,
       "grid_auto_flow": null,
       "grid_auto_rows": null,
       "grid_column": null,
       "grid_gap": null,
       "grid_row": null,
       "grid_template_areas": null,
       "grid_template_columns": null,
       "grid_template_rows": null,
       "height": null,
       "justify_content": null,
       "justify_items": null,
       "left": null,
       "margin": null,
       "max_height": null,
       "max_width": null,
       "min_height": null,
       "min_width": null,
       "object_fit": null,
       "object_position": null,
       "order": null,
       "overflow": null,
       "overflow_x": null,
       "overflow_y": null,
       "padding": null,
       "right": null,
       "top": null,
       "visibility": null,
       "width": "145px"
      }
     },
     "a38db3ffdfc848c0b0150e42b3509be5": {
      "model_module": "@jupyter-widgets/controls",
      "model_module_version": "1.5.0",
      "model_name": "HTMLModel",
      "state": {
       "_dom_classes": [],
       "_model_module": "@jupyter-widgets/controls",
       "_model_module_version": "1.5.0",
       "_model_name": "HTMLModel",
       "_view_count": null,
       "_view_module": "@jupyter-widgets/controls",
       "_view_module_version": "1.5.0",
       "_view_name": "HTMLView",
       "description": "",
       "description_tooltip": null,
       "layout": "IPY_MODEL_2f981df37e914685992f4564103ef872",
       "placeholder": "​",
       "style": "IPY_MODEL_246d39f98fdb4892bc1d5bfb88d2f1cd",
       "value": "<h5>Message</h5>"
      }
     },
     "ac5a0f78ef8140a2abdf035fd1751936": {
      "model_module": "@jupyter-widgets/controls",
      "model_module_version": "1.5.0",
      "model_name": "HTMLModel",
      "state": {
       "_dom_classes": [],
       "_model_module": "@jupyter-widgets/controls",
       "_model_module_version": "1.5.0",
       "_model_name": "HTMLModel",
       "_view_count": null,
       "_view_module": "@jupyter-widgets/controls",
       "_view_module_version": "1.5.0",
       "_view_name": "HTMLView",
       "description": "",
       "description_tooltip": null,
       "layout": "IPY_MODEL_3aa67247d1a9433f87b13ce1370c8b1c",
       "placeholder": "​",
       "style": "IPY_MODEL_46f75da5f7ab4f33b4df8618ccffde6b",
       "value": "<h5>Job ID</h5>"
      }
     },
     "b7e87c3bbc404502ab1550d64f86c473": {
      "model_module": "@jupyter-widgets/controls",
      "model_module_version": "1.5.0",
      "model_name": "ButtonModel",
      "state": {
       "_dom_classes": [],
       "_model_module": "@jupyter-widgets/controls",
       "_model_module_version": "1.5.0",
       "_model_name": "ButtonModel",
       "_view_count": null,
       "_view_module": "@jupyter-widgets/controls",
       "_view_module_version": "1.5.0",
       "_view_name": "ButtonView",
       "button_style": "primary",
       "description": "Clear",
       "disabled": false,
       "icon": "",
       "layout": "IPY_MODEL_f6a39516121743099bece32bc0c3c696",
       "style": "IPY_MODEL_40a8f99fef5b4aad89f533edcb091c3f",
       "tooltip": ""
      }
     },
     "eef64edafd8f47c885da65fa3ca0ab8a": {
      "model_module": "@jupyter-widgets/controls",
      "model_module_version": "1.5.0",
      "model_name": "HTMLModel",
      "state": {
       "_dom_classes": [],
       "_model_module": "@jupyter-widgets/controls",
       "_model_module_version": "1.5.0",
       "_model_name": "HTMLModel",
       "_view_count": null,
       "_view_module": "@jupyter-widgets/controls",
       "_view_module_version": "1.5.0",
       "_view_name": "HTMLView",
       "description": "",
       "description_tooltip": null,
       "layout": "IPY_MODEL_ef270ca07615429ab689824b66fdb1ff",
       "placeholder": "​",
       "style": "IPY_MODEL_17046f96803d48aa8c63b99a5c89e6f3",
       "value": "<h5>Queue</h5>"
      }
     },
     "ef270ca07615429ab689824b66fdb1ff": {
      "model_module": "@jupyter-widgets/base",
      "model_module_version": "1.2.0",
      "model_name": "LayoutModel",
      "state": {
       "_model_module": "@jupyter-widgets/base",
       "_model_module_version": "1.2.0",
       "_model_name": "LayoutModel",
       "_view_count": null,
       "_view_module": "@jupyter-widgets/base",
       "_view_module_version": "1.2.0",
       "_view_name": "LayoutView",
       "align_content": null,
       "align_items": null,
       "align_self": null,
       "border": null,
       "bottom": null,
       "display": null,
       "flex": null,
       "flex_flow": null,
       "grid_area": null,
       "grid_auto_columns": null,
       "grid_auto_flow": null,
       "grid_auto_rows": null,
       "grid_column": null,
       "grid_gap": null,
       "grid_row": null,
       "grid_template_areas": null,
       "grid_template_columns": null,
       "grid_template_rows": null,
       "height": null,
       "justify_content": null,
       "justify_items": null,
       "left": null,
       "margin": null,
       "max_height": null,
       "max_width": null,
       "min_height": null,
       "min_width": null,
       "object_fit": null,
       "object_position": null,
       "order": null,
       "overflow": null,
       "overflow_x": null,
       "overflow_y": null,
       "padding": null,
       "right": null,
       "top": null,
       "visibility": null,
       "width": "70px"
      }
     },
     "f0e6a746eff140269e915ef65de640c7": {
      "model_module": "@jupyter-widgets/base",
      "model_module_version": "1.2.0",
      "model_name": "LayoutModel",
      "state": {
       "_model_module": "@jupyter-widgets/base",
       "_model_module_version": "1.2.0",
       "_model_name": "LayoutModel",
       "_view_count": null,
       "_view_module": "@jupyter-widgets/base",
       "_view_module_version": "1.2.0",
       "_view_name": "LayoutView",
       "align_content": null,
       "align_items": null,
       "align_self": null,
       "border": null,
       "bottom": null,
       "display": null,
       "flex": null,
       "flex_flow": null,
       "grid_area": null,
       "grid_auto_columns": null,
       "grid_auto_flow": null,
       "grid_auto_rows": null,
       "grid_column": null,
       "grid_gap": null,
       "grid_row": null,
       "grid_template_areas": null,
       "grid_template_columns": null,
       "grid_template_rows": null,
       "height": null,
       "justify_content": null,
       "justify_items": null,
       "left": null,
       "margin": null,
       "max_height": null,
       "max_width": null,
       "min_height": null,
       "min_width": null,
       "object_fit": null,
       "object_position": null,
       "order": null,
       "overflow": null,
       "overflow_x": null,
       "overflow_y": null,
       "padding": null,
       "right": null,
       "top": null,
       "visibility": null,
       "width": "95px"
      }
     },
     "f6a39516121743099bece32bc0c3c696": {
      "model_module": "@jupyter-widgets/base",
      "model_module_version": "1.2.0",
      "model_name": "LayoutModel",
      "state": {
       "_model_module": "@jupyter-widgets/base",
       "_model_module_version": "1.2.0",
       "_model_name": "LayoutModel",
       "_view_count": null,
       "_view_module": "@jupyter-widgets/base",
       "_view_module_version": "1.2.0",
       "_view_name": "LayoutView",
       "align_content": null,
       "align_items": null,
       "align_self": null,
       "border": null,
       "bottom": null,
       "display": null,
       "flex": null,
       "flex_flow": null,
       "grid_area": "right",
       "grid_auto_columns": null,
       "grid_auto_flow": null,
       "grid_auto_rows": null,
       "grid_column": null,
       "grid_gap": null,
       "grid_row": null,
       "grid_template_areas": null,
       "grid_template_columns": null,
       "grid_template_rows": null,
       "height": null,
       "justify_content": null,
       "justify_items": null,
       "left": null,
       "margin": null,
       "max_height": null,
       "max_width": null,
       "min_height": null,
       "min_width": null,
       "object_fit": null,
       "object_position": null,
       "order": null,
       "overflow": null,
       "overflow_x": null,
       "overflow_y": null,
       "padding": "0px 0px 0px 0px",
       "right": null,
       "top": null,
       "visibility": null,
       "width": "70px"
      }
     },
     "fc018f99fbb44aa9beb54a8e6be5209e": {
      "model_module": "@jupyter-widgets/base",
      "model_module_version": "1.2.0",
      "model_name": "LayoutModel",
      "state": {
       "_model_module": "@jupyter-widgets/base",
       "_model_module_version": "1.2.0",
       "_model_name": "LayoutModel",
       "_view_count": null,
       "_view_module": "@jupyter-widgets/base",
       "_view_module_version": "1.2.0",
       "_view_name": "LayoutView",
       "align_content": null,
       "align_items": null,
       "align_self": null,
       "border": null,
       "bottom": null,
       "display": null,
       "flex": null,
       "flex_flow": null,
       "grid_area": null,
       "grid_auto_columns": null,
       "grid_auto_flow": null,
       "grid_auto_rows": null,
       "grid_column": null,
       "grid_gap": null,
       "grid_row": null,
       "grid_template_areas": null,
       "grid_template_columns": null,
       "grid_template_rows": null,
       "height": null,
       "justify_content": null,
       "justify_items": null,
       "left": null,
       "margin": "0px 0px 0px 37px",
       "max_height": null,
       "max_width": null,
       "min_height": null,
       "min_width": null,
       "object_fit": null,
       "object_position": null,
       "order": null,
       "overflow": null,
       "overflow_x": null,
       "overflow_y": null,
       "padding": null,
       "right": null,
       "top": null,
       "visibility": null,
       "width": "600px"
      }
     }
    },
    "version_major": 2,
    "version_minor": 0
   }
  }
 },
 "nbformat": 4,
 "nbformat_minor": 2
}
