{
 "cells": [
  {
   "cell_type": "markdown",
   "metadata": {},
   "source": []
  },
  {
   "cell_type": "markdown",
   "metadata": {
    "tags": [
     "remove_cell"
    ]
   },
   "source": [
    "# Shor's algorithm for pulsar detection"
   ]
  },
  {
   "cell_type": "raw",
   "metadata": {},
   "source": [
    "Shor’s algorithm is famous for factoring integers in polynomial time, which has severe consequences for encryption. The algorithm relies on estimating the period of a periodic signal. This is sometimes referred to as the _period finding_ algorithm. \n",
    "\n",
    "We focus here on the application of the period finding algorithm to the detection of pulsar. The signals emitted by pulsar is by nature periodic and this perdiocity is refelected in the observations. We first generate simplified data capturing the real signals recorded from pulsars. We then devise a scheme based on Shot's algorithm to detect the period of this signal."
   ]
  },
  {
   "cell_type": "code",
   "execution_count": 1,
   "metadata": {
    "tags": [
     "thebelab-init"
    ]
   },
   "outputs": [],
   "source": [
    "import matplotlib.pyplot as plt\n",
    "import numpy as np\n",
    "from qiskit import QuantumCircuit, QuantumRegister, ClassicalRegister, Aer, transpile, assemble\n",
    "from qiskit.visualization import plot_histogram\n",
    "from math import gcd\n",
    "from numpy.random import randint\n",
    "import pandas as pd\n",
    "from fractions import Fraction\n",
    "from utils import generate_fake_data_2"
   ]
  },
  {
   "cell_type": "markdown",
   "metadata": {},
   "source": [
    "## Generating ideal pulsar data\n",
    "\n",
    "We first generate here ideal pulsar signal using the code in `generate_toy_pulsar_data`. "
   ]
  },
  {
   "cell_type": "code",
   "execution_count": 2,
   "metadata": {},
   "outputs": [],
   "source": [
    "# number of channels and time step of the signal\n",
    "nchan, ntime = 64, 64\n",
    "\n",
    "# real period of the pulsar (in time step)\n",
    "period_real = 4\n",
    "\n",
    "# the dispertion measure\n",
    "dm_real = 20\n",
    "\n",
    "# the amount of noise\n",
    "noise_frac = 0.0\n",
    "\n",
    "# generate the data\n",
    "data = generate_fake_data_2(nchan, ntime, period_real, dm_real, noise_frac)"
   ]
  },
  {
   "cell_type": "code",
   "execution_count": 3,
   "metadata": {},
   "outputs": [
    {
     "data": {
      "image/png": "[encoded data removed]",
      "text/plain": [
       "<Figure size 432x288 with 1 Axes>"
      ]
     },
     "metadata": {
      "needs_background": "light"
     },
     "output_type": "display_data"
    }
   ],
   "source": [
    "fig, ax = plt.subplots()\n",
    "ax.imshow(data, vmin=0, vmax=1, origin='lower', aspect='auto',\n",
    "          cmap='gray', extent=[0, ntime-1, 0, nchan-1])\n",
    "ax.set_xlabel('Time')\n",
    "ax.set_ylabel('Frequency')\n",
    "fig.savefig(\"raw-data.svg\")"
   ]
  },
  {
   "cell_type": "markdown",
   "metadata": {},
   "source": [
    "As we see in the picture, each channel (i.e. each row of the image) contains a periodic peak over a constant background. Each channel is displaced horizontally from the previous one due to dispertion."
   ]
  },
  {
   "cell_type": "markdown",
   "metadata": {},
   "source": [
    "## Algorithm for period finding \n",
    "\n",
    "The period finding algorithm is very simple and contains only 5 steps described below. The algorithm is aimed at computing the period of a function $f(x)$. The algorithm uses two quantum registers that are initially in the state \n",
    "\n",
    "$$\n",
    "|0\\rangle|0\\rangle\n",
    "$$\n",
    "\n",
    "The function is accessed as a Oracle that performs the following operation:\n",
    "\n",
    "$$\n",
    "f(|a\\rangle|0\\rangle) \\rightarrow |a\\rangle|f(a)\\rangle\n",
    "$$\n",
    "\n",
    "\n",
    "1 - The first step consists in creating a full superposition on the first quantum register. This is usually done using Haddamard gates on all qbits of the register. The corresponding transformation reads :\n",
    "\n",
    "$$\n",
    "|0\\rangle|0\\rangle \\rightarrow \\sum_x |x\\rangle|0\\rangle \n",
    "$$\n",
    "\n",
    "2 - Using the superposition on the first register we can compute all values of  $f$ in parallel : \n",
    "\n",
    "$$\n",
    "\\sum_x |x\\rangle|0\\rangle  \\rightarrow \\sum_x |x\\rangle|f(x)\\rangle \n",
    "$$\n",
    "\n",
    "To give a concrete example, let's assume that the period of $f$ is 5 and that $f$ takes the values : $f(0) = a$, $f(1) = b$, $f(2) = c$ $f(3)=d$, $f(4)=e$, $f(5)=a$, $f(6)=b$ ... the state of the quantum system will then be:  \n",
    "\n",
    "$$\n",
    "|0\\rangle|a\\rangle + |1\\rangle|b\\rangle + |2\\rangle|c\\rangle + |3\\rangle|d\\rangle + |4\\rangle|e\\rangle + |5\\rangle|a\\rangle + |6\\rangle|b\\rangle + ...\n",
    "$$\n",
    "\n",
    "3 - The next step consist in measuring the 2nd register. Let's assume here that we measure $|b\\rangle$, this measurement collapses the wave function to the state :\n",
    "\n",
    "$$\n",
    "( |1\\rangle + |6\\rangle + |12\\rangle + |18\\rangle + ... ) |b\\rangle\n",
    "$$\n",
    "\n",
    "We see now that the perdiodicity of $f$ is reflected in the superposition of the first register.\n",
    "\n",
    "4 - To extract the value of the periodicity, we apply an inverse QFT on the first register. Since this register is now on a periodic superposition, the result of the inverse Fourier transform will give the value of the frequency."
   ]
  },
  {
   "cell_type": "markdown",
   "metadata": {},
   "source": [
    "## Issue with the Shor's algorithm\n",
    "\n",
    "We clearly see that the function $f$ must be injective within its period for the Shor's algorithm to work. This means that within a perdiod the function must take values like :\n",
    "\n",
    "$$\n",
    "f(0) = a \\quad f(1) = b \\quad f(2) = c \\quad f(3)=d \\quad f(4)=e\n",
    "$$\n",
    "\n",
    "but the algorithm will fail if the function takes the values :\n",
    "\n",
    "$$\n",
    "g(0) = a \\quad g(1) = b \\quad g(2) = c \\quad g(3)=a \\quad g(4)=c\n",
    "$$\n",
    "\n",
    "To see why the algorithm will fail let's consider the state of the circuit after step 2 with the function $g$ :\n",
    "\n",
    "$$\n",
    "|0\\rangle|a\\rangle + |1\\rangle|b\\rangle + |2\\rangle|c\\rangle + |3\\rangle|a\\rangle + |4\\rangle|c\\rangle + |5\\rangle|a\\rangle + |6\\rangle|b\\rangle + ...\n",
    "$$\n",
    "\n",
    "Let's now assume that during step 3 we measure $|a\\rangle$ on the second register, this will collapse the wave function  to :\n",
    "\n",
    "$$\n",
    "( |0\\rangle + |3\\rangle + |5\\rangle + |8\\rangle + |10\\rangle... ) |a\\rangle\n",
    "$$\n",
    "\n",
    "We clearly see here that the superposition obtained of the first register does not present the correct periodicity. Before we use Shor's algorithm, we must therefore process the signal obtained from the pulsar so that it becomes injective during its period."
   ]
  },
  {
   "cell_type": "markdown",
   "metadata": {},
   "source": [
    "## Making injective signals\n",
    "\n",
    "To make our pulsar signal injective we can consider several channels at once. As seen earlier the dispertion leads to a consistent shift of the signal that we can use to our advantage. There are of course many different channel conbination we can consider. For example let's say that we consider the 4 firsts channels. Let's assume that at a given time step these channels take the individual values :\n",
    "\n",
    "$$\n",
    "c_0 = 0 \\quad c_1 = 1 \\quad c_2 = 0 \\quad c_3 = 1\n",
    "$$\n",
    "\n",
    "these individual channels will be concatenated in the 4 bit binary word :\n",
    "\n",
    "$$\n",
    "0101\n",
    "$$\n",
    "\n",
    "which can be converted to $0101=5$. Doing this for all time steps leads to signal that can if we are lucky be injective.\n",
    "\n",
    "\n",
    "The function `integrate_signal` compute that automatically. In that function we simply consider that we take `n_count` channels, starting at index `start_index` and that we consider every other `increment` channels. The signal returned by that function can then be encoded in register containing `n_count` qubits."
   ]
  },
  {
   "cell_type": "code",
   "execution_count": 9,
   "metadata": {},
   "outputs": [
    {
     "name": "stdout",
     "output_type": "stream",
     "text": [
      "[2, 0, 4, 9, 2, 0, 4, 9, 2, 0, 4, 9, 2, 0, 4, 9, 2, 0, 4, 9, 2, 0, 4, 9, 2, 0, 4, 9, 2, 0, 4, 9, 2, 0, 4, 9, 2, 0, 4, 9, 2, 0, 4, 9, 2, 0, 4, 9, 2, 0, 4, 9, 2, 0, 4, 9, 2, 0, 4, 9, 2, 0, 4, 9]\n"
     ]
    },
    {
     "data": {
      "image/png": "[encoded data removed]",
      "text/plain": [
       "<Figure size 432x288 with 1 Axes>"
      ]
     },
     "metadata": {
      "needs_background": "light"
     },
     "output_type": "display_data"
    }
   ],
   "source": [
    "from utils import integrate_signal\n",
    "\n",
    "n_count, start_index, increment = 4, 1, 2 \n",
    "bits = integrate_signal(data, n_count, start_index, increment)\n",
    "\n",
    "plt.plot(bits)\n",
    "print(bits)"
   ]
  },
  {
   "cell_type": "markdown",
   "metadata": {},
   "source": [
    "## Creating the Oracle function for the signal\n",
    "\n",
    "Shor's algorithm uses the function $f$ as a oracle that performs the operation :\n",
    "\n",
    "$$\n",
    "f(|x\\rangle|0\\rangle) \\rightarrow |x\\rangle|f(x)\\rangle\n",
    "$$\n",
    "\n",
    "We thereore need to create a Oracle that performs such operation. The Oracle operates on two registers. The first register encodes the values of the time step and should therefore contain `log2(ntime)` qubit. The first time step $t=0$ will be enoded in the register state $|00..0\\rangle$ the second time stepm $t=1$ in $|00..1\\rangle$ etc ... The second register will encode the value of the _injective_ pulsar signal generated by the integration of the raw data over several channels. This second register should therefore contains `n_cout` qubits.\n",
    "\n",
    "The creation of the Oracle is then a simple $M$ matrix that transforms the initial state $|x0\\rangle$ to : $|xf(x)\\rangle$. "
   ]
  },
  {
   "cell_type": "code",
   "execution_count": 10,
   "metadata": {},
   "outputs": [],
   "source": [
    "# from qiskit.quantum_info.operators import Operator\n",
    "from utils import tobin \n",
    "from qiskit.quantum_info.operators import Operator\n",
    "def BooleanBitsOracle(bit, nbit):\n",
    "    \n",
    "    npts = data.shape[0]\n",
    "    nqbits_register1 = int(np.log2(npts))\n",
    "    \n",
    "    nqbits_register2 = nbit\n",
    "    size = 2**(nqbits_register1+nqbits_register2)\n",
    "    \n",
    "    M = np.eye(size,size)\n",
    "    \n",
    "    \n",
    "    for x in range(npts):\n",
    "        \n",
    "        xbin = tobin(x, nqbits_register1)\n",
    "        y = int(bit[x])\n",
    "        ybin = tobin(y, nqbits_register2)\n",
    "\n",
    "        if ybin !=0:\n",
    "            \n",
    "            idx = int(ybin+xbin, 2)\n",
    "            M[int(xbin, 2), int(xbin, 2)] = 0\n",
    "            M[idx, idx] = 0\n",
    "            M[int(xbin, 2),idx] = 1\n",
    "            M[idx, int(xbin, 2)] = 1\n",
    "    \n",
    "    op = Operator(M)\n",
    "    op.label = 'oracle'\n",
    "    return op\n",
    "    \n",
    "oracle = BooleanBitsOracle(bits, n_count)"
   ]
  },
  {
   "cell_type": "markdown",
   "metadata": {},
   "source": [
    "## Creating the quantum circuit\n",
    "\n",
    "As explained in introduction the circuit for Shor's algorithm contains 4 main parts :\n",
    "\n",
    "        . The creation of a superposition through Hadammard gates\n",
    "        . The call to the Oracle\n",
    "        . The inverse QFT\n",
    "        . The measurment \n",
    "\n",
    "These 4 steps are implemented below to create the full circuit. The circuit contains 2 quantum registers and 1 classical register to be able to read the output."
   ]
  },
  {
   "cell_type": "code",
   "execution_count": 11,
   "metadata": {},
   "outputs": [
    {
     "data": {
      "image/png": "[encoded data removed]",
      "text/plain": [
       "<Figure size 770.577x686.28 with 1 Axes>"
      ]
     },
     "execution_count": 11,
     "metadata": {},
     "output_type": "execute_result"
    }
   ],
   "source": [
    "# Create QuantumCircuit with n_count counting qubits\n",
    "# plus 4 qubits for U to act on\n",
    "from utils import qft_dagger\n",
    "nqubit_register1 = 6\n",
    "nqubit_register2 = n_count\n",
    "\n",
    "# initialize the quantum circuit\n",
    "qc = QuantumCircuit(QuantumRegister(nqubit_register1, 'qr0'), \n",
    "                    QuantumRegister(nqubit_register2,'qr1'),\n",
    "                    ClassicalRegister(nqubit_register1,'cr0'))\n",
    "\n",
    "\n",
    "# Initialize counting qubits\n",
    "# in state |+>\n",
    "for q in range(nqubit_register1):\n",
    "    qc.h(q)\n",
    "\n",
    "# introduce the oracle\n",
    "qc.append(oracle,list(range(0,nqubit_register1+nqubit_register2)))\n",
    "\n",
    "# inverse QFT\n",
    "qc.append(qft_dagger(nqubit_register1), range(nqubit_register1))\n",
    "\n",
    "# Measure the first register\n",
    "qc.measure(range(nqubit_register1),range(nqubit_register1))\n",
    "\n",
    "# draw the circuit\n",
    "qc.draw('mpl')  # -1 means 'do not fold' "
   ]
  },
  {
   "cell_type": "markdown",
   "metadata": {},
   "source": [
    "## Run the simulation\n",
    "\n",
    "Now that everything is in place we can run the simulations. We use the Aer backend, run a bunch of simulations to gather statistic and plot an histogram of the results"
   ]
  },
  {
   "cell_type": "code",
   "execution_count": 12,
   "metadata": {},
   "outputs": [
    {
     "data": {
      "image/png": "[encoded data removed]",
      "text/plain": [
       "<Figure size 504x360 with 1 Axes>"
      ]
     },
     "execution_count": 12,
     "metadata": {},
     "output_type": "execute_result"
    }
   ],
   "source": [
    "aer_sim = Aer.get_backend('aer_simulator')\n",
    "t_qc = transpile(qc, aer_sim)\n",
    "qobj = assemble(t_qc)\n",
    "results = aer_sim.run(qobj).result()\n",
    "counts = results.get_counts()\n",
    "plot_histogram(counts)\n"
   ]
  },
  {
   "cell_type": "markdown",
   "metadata": {},
   "source": [
    "## Analysis\n",
    "\n",
    "The output of the circuit gives several binary words with different probablities. We can further analyse this output with the following snippet."
   ]
  },
  {
   "cell_type": "code",
   "execution_count": 16,
   "metadata": {},
   "outputs": [
    {
     "name": "stdout",
     "output_type": "stream",
     "text": [
      "          Register Output         Phase  Probability  NumPhase\n",
      "0  000000(bin) =   0(dec)   0/64 = 0.00     0.256836      0.00\n",
      "1  110000(bin) =  48(dec)  48/64 = 0.75     0.255859      0.75\n",
      "2  010000(bin) =  16(dec)  16/64 = 0.25     0.247070      0.25\n",
      "3  100000(bin) =  32(dec)  32/64 = 0.50     0.240234      0.50\n"
     ]
    }
   ],
   "source": [
    "rows, measured_phases, measured_prob = [], [], []\n",
    "norm = 0\n",
    "for _, proba in counts.items():\n",
    "    norm += proba\n",
    "    \n",
    "for output, proba in counts.items():\n",
    "    norm_prob = proba/norm\n",
    "    decimal = int(output, 2)  # Convert (base 2) string to decimal\n",
    "    phase = decimal/(2**nqubit_register1)  # Find corresponding eigenvalue\n",
    "    measured_phases.append(phase)\n",
    "    measured_prob.append(norm_prob)\n",
    "    # Add these values to the rows in our table:\n",
    "    rows.append([f\"{output}(bin) = {decimal:>3}(dec)\", \n",
    "                 f\"{decimal}/{2**nqubit_register1} = {phase:.2f}\",\n",
    "                norm_prob, phase])\n",
    "# Print the rows in a table\n",
    "headers=[\"Register Output\", \"Phase\",\"Probability\",\"NumPhase\"]\n",
    "df = pd.DataFrame(rows, columns=headers)\n",
    "df.sort_values(by='Probability', inplace=True, ascending=False)\n",
    "print(df)\n"
   ]
  },
  {
   "cell_type": "markdown",
   "metadata": {},
   "source": [
    "The register output is first converted in decimal value which leads to the phase of the corresponding output value. This phase is used as input for a continuous fraction algorithm to extract the periodicity. This is done below"
   ]
  },
  {
   "cell_type": "code",
   "execution_count": 17,
   "metadata": {},
   "outputs": [
    {
     "name": "stdout",
     "output_type": "stream",
     "text": [
      "   Phase Fraction  Guess for r  Probability\n",
      "0   0.00      0/1            1     0.256836\n",
      "1   0.75      3/4            4     0.255859\n",
      "2   0.25      1/4            4     0.247070\n",
      "3   0.50      1/2            2     0.240234\n"
     ]
    }
   ],
   "source": [
    "rows = []\n",
    "for index, row in df.iterrows():\n",
    "    frac = Fraction(row['NumPhase']).limit_denominator(20)\n",
    "    rows.append([row['NumPhase'], f\"{frac.numerator}/{frac.denominator}\", frac.denominator, row['Probability']])\n",
    "# Print as a table\n",
    "headers=[\"Phase\", \"Fraction\", \"Guess for r\", \"Probability\"]\n",
    "df2 = pd.DataFrame(rows, columns=headers)\n",
    "print(df2)\n",
    "    "
   ]
  },
  {
   "cell_type": "code",
   "execution_count": null,
   "metadata": {},
   "outputs": [],
   "source": []
  }
 ],
 "metadata": {
  "kernelspec": {
   "display_name": "Python 3",
   "language": "python",
   "name": "python3"
  },
  "language_info": {
   "codemirror_mode": {
    "name": "ipython",
    "version": 3
   },
   "file_extension": ".py",
   "mimetype": "text/x-python",
   "name": "python",
   "nbconvert_exporter": "python",
   "pygments_lexer": "ipython3",
   "version": "3.8.0"
  },
  "widgets": {
   "application/vnd.jupyter.widget-state+json": {
    "state": {
     "01c1149844c14fbbbcc3f792eacceba5": {
      "model_module": "@jupyter-widgets/base",
      "model_module_version": "1.2.0",
      "model_name": "LayoutModel",
      "state": {
       "_model_module": "@jupyter-widgets/base",
       "_model_module_version": "1.2.0",
       "_model_name": "LayoutModel",
       "_view_count": null,
       "_view_module": "@jupyter-widgets/base",
       "_view_module_version": "1.2.0",
       "_view_name": "LayoutView",
       "align_content": null,
       "align_items": null,
       "align_self": null,
       "border": null,
       "bottom": null,
       "display": null,
       "flex": null,
       "flex_flow": null,
       "grid_area": null,
       "grid_auto_columns": null,
       "grid_auto_flow": null,
       "grid_auto_rows": null,
       "grid_column": null,
       "grid_gap": null,
       "grid_row": null,
       "grid_template_areas": null,
       "grid_template_columns": null,
       "grid_template_rows": null,
       "height": null,
       "justify_content": null,
       "justify_items": null,
       "left": null,
       "margin": "0px 0px 0px 37px",
       "max_height": null,
       "max_width": null,
       "min_height": null,
       "min_width": null,
       "object_fit": null,
       "object_position": null,
       "order": null,
       "overflow": null,
       "overflow_x": null,
       "overflow_y": null,
       "padding": null,
       "right": null,
       "top": null,
       "visibility": null,
       "width": "600px"
      }
     },
     "0dc6a52282a7409d801cc0d2439cdb97": {
      "model_module": "@jupyter-widgets/base",
      "model_module_version": "1.2.0",
      "model_name": "LayoutModel",
      "state": {
       "_model_module": "@jupyter-widgets/base",
       "_model_module_version": "1.2.0",
       "_model_name": "LayoutModel",
       "_view_count": null,
       "_view_module": "@jupyter-widgets/base",
       "_view_module_version": "1.2.0",
       "_view_name": "LayoutView",
       "align_content": null,
       "align_items": null,
       "align_self": null,
       "border": null,
       "bottom": null,
       "display": null,
       "flex": null,
       "flex_flow": null,
       "grid_area": null,
       "grid_auto_columns": null,
       "grid_auto_flow": null,
       "grid_auto_rows": null,
       "grid_column": null,
       "grid_gap": null,
       "grid_row": null,
       "grid_template_areas": null,
       "grid_template_columns": null,
       "grid_template_rows": null,
       "height": null,
       "justify_content": null,
       "justify_items": null,
       "left": null,
       "margin": null,
       "max_height": null,
       "max_width": null,
       "min_height": null,
       "min_width": null,
       "object_fit": null,
       "object_position": null,
       "order": null,
       "overflow": null,
       "overflow_x": null,
       "overflow_y": null,
       "padding": null,
       "right": null,
       "top": null,
       "visibility": null,
       "width": null
      }
     },
     "0fa245b4c617465a9df8e9931b56469d": {
      "model_module": "@jupyter-widgets/controls",
      "model_module_version": "1.5.0",
      "model_name": "GridBoxModel",
      "state": {
       "_dom_classes": [],
       "_model_module": "@jupyter-widgets/controls",
       "_model_module_version": "1.5.0",
       "_model_name": "GridBoxModel",
       "_view_count": null,
       "_view_module": "@jupyter-widgets/controls",
       "_view_module_version": "1.5.0",
       "_view_name": "GridBoxView",
       "box_style": "",
       "children": [
        "IPY_MODEL_153c1ade20b4449b9b1d2a90c5182321"
       ],
       "layout": "IPY_MODEL_a3c68c6daedc4431abf872a00c152cf2"
      }
     },
     "153c1ade20b4449b9b1d2a90c5182321": {
      "model_module": "@jupyter-widgets/controls",
      "model_module_version": "1.5.0",
      "model_name": "ButtonModel",
      "state": {
       "_dom_classes": [],
       "_model_module": "@jupyter-widgets/controls",
       "_model_module_version": "1.5.0",
       "_model_name": "ButtonModel",
       "_view_count": null,
       "_view_module": "@jupyter-widgets/controls",
       "_view_module_version": "1.5.0",
       "_view_name": "ButtonView",
       "button_style": "primary",
       "description": "Clear",
       "disabled": false,
       "icon": "",
       "layout": "IPY_MODEL_dc8771a5f6b740019610970e0a9373ce",
       "style": "IPY_MODEL_b2da6745f36648e88b6813960e4dbd3a",
       "tooltip": ""
      }
     },
     "2b0a3f4426034af5879b23e2182302f7": {
      "model_module": "@jupyter-widgets/base",
      "model_module_version": "1.2.0",
      "model_name": "LayoutModel",
      "state": {
       "_model_module": "@jupyter-widgets/base",
       "_model_module_version": "1.2.0",
       "_model_name": "LayoutModel",
       "_view_count": null,
       "_view_module": "@jupyter-widgets/base",
       "_view_module_version": "1.2.0",
       "_view_name": "LayoutView",
       "align_content": null,
       "align_items": null,
       "align_self": null,
       "border": null,
       "bottom": null,
       "display": null,
       "flex": null,
       "flex_flow": null,
       "grid_area": null,
       "grid_auto_columns": null,
       "grid_auto_flow": null,
       "grid_auto_rows": null,
       "grid_column": null,
       "grid_gap": null,
       "grid_row": null,
       "grid_template_areas": null,
       "grid_template_columns": null,
       "grid_template_rows": null,
       "height": null,
       "justify_content": null,
       "justify_items": null,
       "left": null,
       "margin": null,
       "max_height": null,
       "max_width": null,
       "min_height": null,
       "min_width": null,
       "object_fit": null,
       "object_position": null,
       "order": null,
       "overflow": null,
       "overflow_x": null,
       "overflow_y": null,
       "padding": null,
       "right": null,
       "top": null,
       "visibility": null,
       "width": "95px"
      }
     },
     "3921c6dda9114a9da07db0998d33b91b": {
      "model_module": "@jupyter-widgets/controls",
      "model_module_version": "1.5.0",
      "model_name": "HTMLModel",
      "state": {
       "_dom_classes": [],
       "_model_module": "@jupyter-widgets/controls",
       "_model_module_version": "1.5.0",
       "_model_name": "HTMLModel",
       "_view_count": null,
       "_view_module": "@jupyter-widgets/controls",
       "_view_module_version": "1.5.0",
       "_view_name": "HTMLView",
       "description": "",
       "description_tooltip": null,
       "layout": "IPY_MODEL_bdedaeba47fb4920a547245d094e622a",
       "placeholder": "​",
       "style": "IPY_MODEL_eea9680991894aaca3c0023837d98048",
       "value": "<h5>Backend</h5>"
      }
     },
     "4063baa815bb49619bc64cdde4fafca0": {
      "model_module": "@jupyter-widgets/base",
      "model_module_version": "1.2.0",
      "model_name": "LayoutModel",
      "state": {
       "_model_module": "@jupyter-widgets/base",
       "_model_module_version": "1.2.0",
       "_model_name": "LayoutModel",
       "_view_count": null,
       "_view_module": "@jupyter-widgets/base",
       "_view_module_version": "1.2.0",
       "_view_name": "LayoutView",
       "align_content": null,
       "align_items": null,
       "align_self": null,
       "border": null,
       "bottom": null,
       "display": null,
       "flex": null,
       "flex_flow": null,
       "grid_area": null,
       "grid_auto_columns": null,
       "grid_auto_flow": null,
       "grid_auto_rows": null,
       "grid_column": null,
       "grid_gap": null,
       "grid_row": null,
       "grid_template_areas": null,
       "grid_template_columns": null,
       "grid_template_rows": null,
       "height": null,
       "justify_content": null,
       "justify_items": null,
       "left": null,
       "margin": null,
       "max_height": null,
       "max_width": null,
       "min_height": null,
       "min_width": null,
       "object_fit": null,
       "object_position": null,
       "order": null,
       "overflow": null,
       "overflow_x": null,
       "overflow_y": null,
       "padding": null,
       "right": null,
       "top": null,
       "visibility": null,
       "width": "190px"
      }
     },
     "5da299cd17b94d2287cc277aae9c2444": {
      "model_module": "@jupyter-widgets/controls",
      "model_module_version": "1.5.0",
      "model_name": "DescriptionStyleModel",
      "state": {
       "_model_module": "@jupyter-widgets/controls",
       "_model_module_version": "1.5.0",
       "_model_name": "DescriptionStyleModel",
       "_view_count": null,
       "_view_module": "@jupyter-widgets/base",
       "_view_module_version": "1.2.0",
       "_view_name": "StyleView",
       "description_width": ""
      }
     },
     "60e618ce0bc743f7b4f502eef851bf23": {
      "model_module": "@jupyter-widgets/controls",
      "model_module_version": "1.5.0",
      "model_name": "DescriptionStyleModel",
      "state": {
       "_model_module": "@jupyter-widgets/controls",
       "_model_module_version": "1.5.0",
       "_model_name": "DescriptionStyleModel",
       "_view_count": null,
       "_view_module": "@jupyter-widgets/base",
       "_view_module_version": "1.2.0",
       "_view_name": "StyleView",
       "description_width": ""
      }
     },
     "7a59c080f07a4129a9d7579eec2b2c04": {
      "model_module": "@jupyter-widgets/controls",
      "model_module_version": "1.5.0",
      "model_name": "HTMLModel",
      "state": {
       "_dom_classes": [],
       "_model_module": "@jupyter-widgets/controls",
       "_model_module_version": "1.5.0",
       "_model_name": "HTMLModel",
       "_view_count": null,
       "_view_module": "@jupyter-widgets/controls",
       "_view_module_version": "1.5.0",
       "_view_name": "HTMLView",
       "description": "",
       "description_tooltip": null,
       "layout": "IPY_MODEL_ac72ac3faa67416190d0357a2759965d",
       "placeholder": "​",
       "style": "IPY_MODEL_a13a9989753141aabbbbb58bdc7c7870",
       "value": "<h5>Queue</h5>"
      }
     },
     "7aa8c310feac424a93acfaca81047e01": {
      "model_module": "@jupyter-widgets/base",
      "model_module_version": "1.2.0",
      "model_name": "LayoutModel",
      "state": {
       "_model_module": "@jupyter-widgets/base",
       "_model_module_version": "1.2.0",
       "_model_name": "LayoutModel",
       "_view_count": null,
       "_view_module": "@jupyter-widgets/base",
       "_view_module_version": "1.2.0",
       "_view_name": "LayoutView",
       "align_content": null,
       "align_items": null,
       "align_self": null,
       "border": null,
       "bottom": null,
       "display": null,
       "flex": null,
       "flex_flow": null,
       "grid_area": null,
       "grid_auto_columns": null,
       "grid_auto_flow": null,
       "grid_auto_rows": null,
       "grid_column": null,
       "grid_gap": null,
       "grid_row": null,
       "grid_template_areas": null,
       "grid_template_columns": null,
       "grid_template_rows": null,
       "height": null,
       "justify_content": null,
       "justify_items": null,
       "left": null,
       "margin": "0px 0px 10px 0px",
       "max_height": null,
       "max_width": null,
       "min_height": null,
       "min_width": null,
       "object_fit": null,
       "object_position": null,
       "order": null,
       "overflow": null,
       "overflow_x": null,
       "overflow_y": null,
       "padding": null,
       "right": null,
       "top": null,
       "visibility": null,
       "width": null
      }
     },
     "9bea7238af7c49feb0b890bd970b0836": {
      "model_module": "@jupyter-widgets/controls",
      "model_module_version": "1.5.0",
      "model_name": "HTMLModel",
      "state": {
       "_dom_classes": [],
       "_model_module": "@jupyter-widgets/controls",
       "_model_module_version": "1.5.0",
       "_model_name": "HTMLModel",
       "_view_count": null,
       "_view_module": "@jupyter-widgets/controls",
       "_view_module_version": "1.5.0",
       "_view_name": "HTMLView",
       "description": "",
       "description_tooltip": null,
       "layout": "IPY_MODEL_4063baa815bb49619bc64cdde4fafca0",
       "placeholder": "​",
       "style": "IPY_MODEL_5da299cd17b94d2287cc277aae9c2444",
       "value": "<h5>Job ID</h5>"
      }
     },
     "a13a9989753141aabbbbb58bdc7c7870": {
      "model_module": "@jupyter-widgets/controls",
      "model_module_version": "1.5.0",
      "model_name": "DescriptionStyleModel",
      "state": {
       "_model_module": "@jupyter-widgets/controls",
       "_model_module_version": "1.5.0",
       "_model_name": "DescriptionStyleModel",
       "_view_count": null,
       "_view_module": "@jupyter-widgets/base",
       "_view_module_version": "1.2.0",
       "_view_name": "StyleView",
       "description_width": ""
      }
     },
     "a1768a819239428893303b3c50064728": {
      "model_module": "@jupyter-widgets/controls",
      "model_module_version": "1.5.0",
      "model_name": "DescriptionStyleModel",
      "state": {
       "_model_module": "@jupyter-widgets/controls",
       "_model_module_version": "1.5.0",
       "_model_name": "DescriptionStyleModel",
       "_view_count": null,
       "_view_module": "@jupyter-widgets/base",
       "_view_module_version": "1.2.0",
       "_view_name": "StyleView",
       "description_width": ""
      }
     },
     "a36bd2e003e340119411d5721e25d997": {
      "model_module": "@jupyter-widgets/controls",
      "model_module_version": "1.5.0",
      "model_name": "HBoxModel",
      "state": {
       "_dom_classes": [],
       "_model_module": "@jupyter-widgets/controls",
       "_model_module_version": "1.5.0",
       "_model_name": "HBoxModel",
       "_view_count": null,
       "_view_module": "@jupyter-widgets/controls",
       "_view_module_version": "1.5.0",
       "_view_name": "HBoxView",
       "box_style": "",
       "children": [
        "IPY_MODEL_9bea7238af7c49feb0b890bd970b0836",
        "IPY_MODEL_3921c6dda9114a9da07db0998d33b91b",
        "IPY_MODEL_a82a69ea0fdd4e14a3872a534b3d9531",
        "IPY_MODEL_7a59c080f07a4129a9d7579eec2b2c04",
        "IPY_MODEL_d4a2968221784de495142cc3d5ea5faf"
       ],
       "layout": "IPY_MODEL_01c1149844c14fbbbcc3f792eacceba5"
      }
     },
     "a3c68c6daedc4431abf872a00c152cf2": {
      "model_module": "@jupyter-widgets/base",
      "model_module_version": "1.2.0",
      "model_name": "LayoutModel",
      "state": {
       "_model_module": "@jupyter-widgets/base",
       "_model_module_version": "1.2.0",
       "_model_name": "LayoutModel",
       "_view_count": null,
       "_view_module": "@jupyter-widgets/base",
       "_view_module_version": "1.2.0",
       "_view_name": "LayoutView",
       "align_content": null,
       "align_items": null,
       "align_self": null,
       "border": null,
       "bottom": null,
       "display": null,
       "flex": null,
       "flex_flow": null,
       "grid_area": null,
       "grid_auto_columns": null,
       "grid_auto_flow": null,
       "grid_auto_rows": null,
       "grid_column": null,
       "grid_gap": null,
       "grid_row": null,
       "grid_template_areas": "\n                                       \". . . . right \"\n                                        ",
       "grid_template_columns": "20% 20% 20% 20% 20%",
       "grid_template_rows": null,
       "height": null,
       "justify_content": null,
       "justify_items": null,
       "left": null,
       "margin": null,
       "max_height": null,
       "max_width": null,
       "min_height": null,
       "min_width": null,
       "object_fit": null,
       "object_position": null,
       "order": null,
       "overflow": null,
       "overflow_x": null,
       "overflow_y": null,
       "padding": null,
       "right": null,
       "top": null,
       "visibility": null,
       "width": "100%"
      }
     },
     "a82a69ea0fdd4e14a3872a534b3d9531": {
      "model_module": "@jupyter-widgets/controls",
      "model_module_version": "1.5.0",
      "model_name": "HTMLModel",
      "state": {
       "_dom_classes": [],
       "_model_module": "@jupyter-widgets/controls",
       "_model_module_version": "1.5.0",
       "_model_name": "HTMLModel",
       "_view_count": null,
       "_view_module": "@jupyter-widgets/controls",
       "_view_module_version": "1.5.0",
       "_view_name": "HTMLView",
       "description": "",
       "description_tooltip": null,
       "layout": "IPY_MODEL_2b0a3f4426034af5879b23e2182302f7",
       "placeholder": "​",
       "style": "IPY_MODEL_60e618ce0bc743f7b4f502eef851bf23",
       "value": "<h5>Status</h5>"
      }
     },
     "ac72ac3faa67416190d0357a2759965d": {
      "model_module": "@jupyter-widgets/base",
      "model_module_version": "1.2.0",
      "model_name": "LayoutModel",
      "state": {
       "_model_module": "@jupyter-widgets/base",
       "_model_module_version": "1.2.0",
       "_model_name": "LayoutModel",
       "_view_count": null,
       "_view_module": "@jupyter-widgets/base",
       "_view_module_version": "1.2.0",
       "_view_name": "LayoutView",
       "align_content": null,
       "align_items": null,
       "align_self": null,
       "border": null,
       "bottom": null,
       "display": null,
       "flex": null,
       "flex_flow": null,
       "grid_area": null,
       "grid_auto_columns": null,
       "grid_auto_flow": null,
       "grid_auto_rows": null,
       "grid_column": null,
       "grid_gap": null,
       "grid_row": null,
       "grid_template_areas": null,
       "grid_template_columns": null,
       "grid_template_rows": null,
       "height": null,
       "justify_content": null,
       "justify_items": null,
       "left": null,
       "margin": null,
       "max_height": null,
       "max_width": null,
       "min_height": null,
       "min_width": null,
       "object_fit": null,
       "object_position": null,
       "order": null,
       "overflow": null,
       "overflow_x": null,
       "overflow_y": null,
       "padding": null,
       "right": null,
       "top": null,
       "visibility": null,
       "width": "70px"
      }
     },
     "b2da6745f36648e88b6813960e4dbd3a": {
      "model_module": "@jupyter-widgets/controls",
      "model_module_version": "1.5.0",
      "model_name": "ButtonStyleModel",
      "state": {
       "_model_module": "@jupyter-widgets/controls",
       "_model_module_version": "1.5.0",
       "_model_name": "ButtonStyleModel",
       "_view_count": null,
       "_view_module": "@jupyter-widgets/base",
       "_view_module_version": "1.2.0",
       "_view_name": "StyleView",
       "button_color": null,
       "font_weight": ""
      }
     },
     "bdedaeba47fb4920a547245d094e622a": {
      "model_module": "@jupyter-widgets/base",
      "model_module_version": "1.2.0",
      "model_name": "LayoutModel",
      "state": {
       "_model_module": "@jupyter-widgets/base",
       "_model_module_version": "1.2.0",
       "_model_name": "LayoutModel",
       "_view_count": null,
       "_view_module": "@jupyter-widgets/base",
       "_view_module_version": "1.2.0",
       "_view_name": "LayoutView",
       "align_content": null,
       "align_items": null,
       "align_self": null,
       "border": null,
       "bottom": null,
       "display": null,
       "flex": null,
       "flex_flow": null,
       "grid_area": null,
       "grid_auto_columns": null,
       "grid_auto_flow": null,
       "grid_auto_rows": null,
       "grid_column": null,
       "grid_gap": null,
       "grid_row": null,
       "grid_template_areas": null,
       "grid_template_columns": null,
       "grid_template_rows": null,
       "height": null,
       "justify_content": null,
       "justify_items": null,
       "left": null,
       "margin": null,
       "max_height": null,
       "max_width": null,
       "min_height": null,
       "min_width": null,
       "object_fit": null,
       "object_position": null,
       "order": null,
       "overflow": null,
       "overflow_x": null,
       "overflow_y": null,
       "padding": null,
       "right": null,
       "top": null,
       "visibility": null,
       "width": "145px"
      }
     },
     "be60610420d341dbad6b0268db9f59c8": {
      "model_module": "@jupyter-widgets/controls",
      "model_module_version": "1.5.0",
      "model_name": "HTMLModel",
      "state": {
       "_dom_classes": [],
       "_model_module": "@jupyter-widgets/controls",
       "_model_module_version": "1.5.0",
       "_model_name": "HTMLModel",
       "_view_count": null,
       "_view_module": "@jupyter-widgets/controls",
       "_view_module_version": "1.5.0",
       "_view_name": "HTMLView",
       "description": "",
       "description_tooltip": null,
       "layout": "IPY_MODEL_7aa8c310feac424a93acfaca81047e01",
       "placeholder": "​",
       "style": "IPY_MODEL_fb0cd4b167384b07a998793bcdcf58ad",
       "value": "<p style='font-family: IBM Plex Sans, Arial, Helvetica, sans-serif; font-size: 20px; font-weight: medium;'>Circuit Properties</p>"
      }
     },
     "d4a2968221784de495142cc3d5ea5faf": {
      "model_module": "@jupyter-widgets/controls",
      "model_module_version": "1.5.0",
      "model_name": "HTMLModel",
      "state": {
       "_dom_classes": [],
       "_model_module": "@jupyter-widgets/controls",
       "_model_module_version": "1.5.0",
       "_model_name": "HTMLModel",
       "_view_count": null,
       "_view_module": "@jupyter-widgets/controls",
       "_view_module_version": "1.5.0",
       "_view_name": "HTMLView",
       "description": "",
       "description_tooltip": null,
       "layout": "IPY_MODEL_0dc6a52282a7409d801cc0d2439cdb97",
       "placeholder": "​",
       "style": "IPY_MODEL_a1768a819239428893303b3c50064728",
       "value": "<h5>Message</h5>"
      }
     },
     "dc8771a5f6b740019610970e0a9373ce": {
      "model_module": "@jupyter-widgets/base",
      "model_module_version": "1.2.0",
      "model_name": "LayoutModel",
      "state": {
       "_model_module": "@jupyter-widgets/base",
       "_model_module_version": "1.2.0",
       "_model_name": "LayoutModel",
       "_view_count": null,
       "_view_module": "@jupyter-widgets/base",
       "_view_module_version": "1.2.0",
       "_view_name": "LayoutView",
       "align_content": null,
       "align_items": null,
       "align_self": null,
       "border": null,
       "bottom": null,
       "display": null,
       "flex": null,
       "flex_flow": null,
       "grid_area": "right",
       "grid_auto_columns": null,
       "grid_auto_flow": null,
       "grid_auto_rows": null,
       "grid_column": null,
       "grid_gap": null,
       "grid_row": null,
       "grid_template_areas": null,
       "grid_template_columns": null,
       "grid_template_rows": null,
       "height": null,
       "justify_content": null,
       "justify_items": null,
       "left": null,
       "margin": null,
       "max_height": null,
       "max_width": null,
       "min_height": null,
       "min_width": null,
       "object_fit": null,
       "object_position": null,
       "order": null,
       "overflow": null,
       "overflow_x": null,
       "overflow_y": null,
       "padding": "0px 0px 0px 0px",
       "right": null,
       "top": null,
       "visibility": null,
       "width": "70px"
      }
     },
     "eea9680991894aaca3c0023837d98048": {
      "model_module": "@jupyter-widgets/controls",
      "model_module_version": "1.5.0",
      "model_name": "DescriptionStyleModel",
      "state": {
       "_model_module": "@jupyter-widgets/controls",
       "_model_module_version": "1.5.0",
       "_model_name": "DescriptionStyleModel",
       "_view_count": null,
       "_view_module": "@jupyter-widgets/base",
       "_view_module_version": "1.2.0",
       "_view_name": "StyleView",
       "description_width": ""
      }
     },
     "fb0cd4b167384b07a998793bcdcf58ad": {
      "model_module": "@jupyter-widgets/controls",
      "model_module_version": "1.5.0",
      "model_name": "DescriptionStyleModel",
      "state": {
       "_model_module": "@jupyter-widgets/controls",
       "_model_module_version": "1.5.0",
       "_model_name": "DescriptionStyleModel",
       "_view_count": null,
       "_view_module": "@jupyter-widgets/base",
       "_view_module_version": "1.2.0",
       "_view_name": "StyleView",
       "description_width": ""
      }
     }
    },
    "version_major": 2,
    "version_minor": 0
   }
  }
 },
 "nbformat": 4,
 "nbformat_minor": 4
}
